{
 "cells": [
  {
   "cell_type": "markdown",
   "metadata": {},
   "source": [
    "# Исследование рынка игровой индустрии\n",
    "\n",
    "Исследование проведено для интернет-магазина компьютерных игр на основе открытых данных до 2016 года о продажах игр, оценках пользователей и экспертов, популярных жанрах и платформах. Цель исследования — выявить закономерности, определяющие успешность игры. Результаты исследования будут использоваться для прогнозирования популярности новых игр и планирования рекламных кампаний со ставкой на потенциально \"звездные\" релизы."
   ]
  },
  {
   "cell_type": "markdown",
   "metadata": {},
   "source": [
    "1. [Получение данных.](#step1)  \n",
    "2. [Предобработка данных.](#step2)  \n",
    "3. [Исследовательский анализ данных.](#step3) \n",
    "4. [Анализ пользователей каждого региона.](#step4) \n",
    "5. [Проверка гипотез.](#step5) \n",
    "6. [Общий вывод.](#step6) "
   ]
  },
  {
   "cell_type": "markdown",
   "metadata": {},
   "source": [
    "## Получение данных. <a id=\"step1\"></a>    "
   ]
  },
  {
   "cell_type": "markdown",
   "metadata": {},
   "source": [
    "### Импорт библиотек"
   ]
  },
  {
   "cell_type": "code",
   "execution_count": 1,
   "metadata": {},
   "outputs": [],
   "source": [
    "import pandas as pd\n",
    "import numpy as np\n",
    "import matplotlib\n",
    "import matplotlib.pyplot as plt\n",
    "import seaborn as sns\n",
    "from scipy import stats as st\n",
    "import warnings\n",
    "warnings.filterwarnings('ignore')"
   ]
  },
  {
   "cell_type": "markdown",
   "metadata": {},
   "source": [
    "Прочитаем файл *games* и сохраним его в переменной *df*. "
   ]
  },
  {
   "cell_type": "code",
   "execution_count": 2,
   "metadata": {},
   "outputs": [],
   "source": [
    "df = pd.read_csv('/datasets/games.csv')"
   ]
  },
  {
   "cell_type": "markdown",
   "metadata": {},
   "source": [
    "Получим первые 5 строк таблицы."
   ]
  },
  {
   "cell_type": "code",
   "execution_count": 3,
   "metadata": {},
   "outputs": [
    {
     "data": {
      "text/html": [
       "<div>\n",
       "<style scoped>\n",
       "    .dataframe tbody tr th:only-of-type {\n",
       "        vertical-align: middle;\n",
       "    }\n",
       "\n",
       "    .dataframe tbody tr th {\n",
       "        vertical-align: top;\n",
       "    }\n",
       "\n",
       "    .dataframe thead th {\n",
       "        text-align: right;\n",
       "    }\n",
       "</style>\n",
       "<table border=\"1\" class=\"dataframe\">\n",
       "  <thead>\n",
       "    <tr style=\"text-align: right;\">\n",
       "      <th></th>\n",
       "      <th>Name</th>\n",
       "      <th>Platform</th>\n",
       "      <th>Year_of_Release</th>\n",
       "      <th>Genre</th>\n",
       "      <th>NA_sales</th>\n",
       "      <th>EU_sales</th>\n",
       "      <th>JP_sales</th>\n",
       "      <th>Other_sales</th>\n",
       "      <th>Critic_Score</th>\n",
       "      <th>User_Score</th>\n",
       "      <th>Rating</th>\n",
       "    </tr>\n",
       "  </thead>\n",
       "  <tbody>\n",
       "    <tr>\n",
       "      <td>0</td>\n",
       "      <td>Wii Sports</td>\n",
       "      <td>Wii</td>\n",
       "      <td>2006.0</td>\n",
       "      <td>Sports</td>\n",
       "      <td>41.36</td>\n",
       "      <td>28.96</td>\n",
       "      <td>3.77</td>\n",
       "      <td>8.45</td>\n",
       "      <td>76.0</td>\n",
       "      <td>8</td>\n",
       "      <td>E</td>\n",
       "    </tr>\n",
       "    <tr>\n",
       "      <td>1</td>\n",
       "      <td>Super Mario Bros.</td>\n",
       "      <td>NES</td>\n",
       "      <td>1985.0</td>\n",
       "      <td>Platform</td>\n",
       "      <td>29.08</td>\n",
       "      <td>3.58</td>\n",
       "      <td>6.81</td>\n",
       "      <td>0.77</td>\n",
       "      <td>NaN</td>\n",
       "      <td>NaN</td>\n",
       "      <td>NaN</td>\n",
       "    </tr>\n",
       "    <tr>\n",
       "      <td>2</td>\n",
       "      <td>Mario Kart Wii</td>\n",
       "      <td>Wii</td>\n",
       "      <td>2008.0</td>\n",
       "      <td>Racing</td>\n",
       "      <td>15.68</td>\n",
       "      <td>12.76</td>\n",
       "      <td>3.79</td>\n",
       "      <td>3.29</td>\n",
       "      <td>82.0</td>\n",
       "      <td>8.3</td>\n",
       "      <td>E</td>\n",
       "    </tr>\n",
       "    <tr>\n",
       "      <td>3</td>\n",
       "      <td>Wii Sports Resort</td>\n",
       "      <td>Wii</td>\n",
       "      <td>2009.0</td>\n",
       "      <td>Sports</td>\n",
       "      <td>15.61</td>\n",
       "      <td>10.93</td>\n",
       "      <td>3.28</td>\n",
       "      <td>2.95</td>\n",
       "      <td>80.0</td>\n",
       "      <td>8</td>\n",
       "      <td>E</td>\n",
       "    </tr>\n",
       "    <tr>\n",
       "      <td>4</td>\n",
       "      <td>Pokemon Red/Pokemon Blue</td>\n",
       "      <td>GB</td>\n",
       "      <td>1996.0</td>\n",
       "      <td>Role-Playing</td>\n",
       "      <td>11.27</td>\n",
       "      <td>8.89</td>\n",
       "      <td>10.22</td>\n",
       "      <td>1.00</td>\n",
       "      <td>NaN</td>\n",
       "      <td>NaN</td>\n",
       "      <td>NaN</td>\n",
       "    </tr>\n",
       "  </tbody>\n",
       "</table>\n",
       "</div>"
      ],
      "text/plain": [
       "                       Name Platform  Year_of_Release         Genre  NA_sales  \\\n",
       "0                Wii Sports      Wii           2006.0        Sports     41.36   \n",
       "1         Super Mario Bros.      NES           1985.0      Platform     29.08   \n",
       "2            Mario Kart Wii      Wii           2008.0        Racing     15.68   \n",
       "3         Wii Sports Resort      Wii           2009.0        Sports     15.61   \n",
       "4  Pokemon Red/Pokemon Blue       GB           1996.0  Role-Playing     11.27   \n",
       "\n",
       "   EU_sales  JP_sales  Other_sales  Critic_Score User_Score Rating  \n",
       "0     28.96      3.77         8.45          76.0          8      E  \n",
       "1      3.58      6.81         0.77           NaN        NaN    NaN  \n",
       "2     12.76      3.79         3.29          82.0        8.3      E  \n",
       "3     10.93      3.28         2.95          80.0          8      E  \n",
       "4      8.89     10.22         1.00           NaN        NaN    NaN  "
      ]
     },
     "execution_count": 3,
     "metadata": {},
     "output_type": "execute_result"
    }
   ],
   "source": [
    "df.head()"
   ]
  },
  {
   "cell_type": "markdown",
   "metadata": {},
   "source": [
    "Получим общую информацию о данных таблицы *df*."
   ]
  },
  {
   "cell_type": "code",
   "execution_count": 4,
   "metadata": {},
   "outputs": [
    {
     "name": "stdout",
     "output_type": "stream",
     "text": [
      "<class 'pandas.core.frame.DataFrame'>\n",
      "RangeIndex: 16715 entries, 0 to 16714\n",
      "Data columns (total 11 columns):\n",
      "Name               16713 non-null object\n",
      "Platform           16715 non-null object\n",
      "Year_of_Release    16446 non-null float64\n",
      "Genre              16713 non-null object\n",
      "NA_sales           16715 non-null float64\n",
      "EU_sales           16715 non-null float64\n",
      "JP_sales           16715 non-null float64\n",
      "Other_sales        16715 non-null float64\n",
      "Critic_Score       8137 non-null float64\n",
      "User_Score         10014 non-null object\n",
      "Rating             9949 non-null object\n",
      "dtypes: float64(6), object(5)\n",
      "memory usage: 1.4+ MB\n"
     ]
    }
   ],
   "source": [
    "df.info()"
   ]
  },
  {
   "cell_type": "markdown",
   "metadata": {},
   "source": [
    "Рассмотрим полученную информацию подробнее.\n",
    "\n",
    "Всего в таблице 11 столбцов, тип данных - **float64**, **object**.\n",
    "\n",
    "Подробно разберём, какие в *df* столбцы и какую информацию они содержат:\n",
    "\n",
    "* Name — название игры;\n",
    "* Platform — платформа;\n",
    "* Year_of_Release — год выпуска;\n",
    "* Genre — жанр игры;\n",
    "* NA_sales — продажи в Северной Америке (миллионы проданных копий);\n",
    "* EU_sales — продажи в Европе (миллионы проданных копий);\n",
    "* JP_sales — продажи в Японии (миллионы проданных копий);\n",
    "* Other_sales — продажи в других странах (миллионы проданных копий);\n",
    "* Critic_Score — оценка критиков (максимум 100);\n",
    "* User_Score — оценка пользователей (максимум 10);\n",
    "* Rating — рейтинг от организации ESRB (англ. Entertainment Software Rating Board). Эта ассоциация определяет рейтинг компьютерных игр и присваивает им подходящую возрастную категорию.\n",
    "\n",
    "Количество значений в столбцах различается. Это говорит о том, что в данных есть пустые значения."
   ]
  },
  {
   "cell_type": "markdown",
   "metadata": {},
   "source": [
    "### Вывод"
   ]
  },
  {
   "cell_type": "markdown",
   "metadata": {},
   "source": [
    "Каждая строка таблицы содержит информацию об отдельной игре: название, платформа, год выпуска, жанр, продажи, оценка критиков и пользователей, рейтинг от ESRB. Проблемы, которые нужно решать - разный регистр названия столбцов и пропуски в столбцах: *Name*, *Year_of_Release*, *Genre*, *Critic_Score*, *User_Score*, *Rating*."
   ]
  },
  {
   "cell_type": "markdown",
   "metadata": {},
   "source": [
    "## Предобработка данных. <a id=\"step2\"></a> "
   ]
  },
  {
   "cell_type": "markdown",
   "metadata": {},
   "source": [
    "Приведем названия столбцов к нижнему регистру."
   ]
  },
  {
   "cell_type": "code",
   "execution_count": 5,
   "metadata": {},
   "outputs": [],
   "source": [
    "df.columns = [col.lower() for col in df.columns]"
   ]
  },
  {
   "cell_type": "markdown",
   "metadata": {},
   "source": [
    "### Обработка пропусков"
   ]
  },
  {
   "cell_type": "markdown",
   "metadata": {},
   "source": [
    "Проверим данные на наличие пропусков вызовом набора методов для суммирования пропущенных значений."
   ]
  },
  {
   "cell_type": "code",
   "execution_count": 6,
   "metadata": {},
   "outputs": [
    {
     "data": {
      "text/plain": [
       "name                  2\n",
       "platform              0\n",
       "year_of_release     269\n",
       "genre                 2\n",
       "na_sales              0\n",
       "eu_sales              0\n",
       "jp_sales              0\n",
       "other_sales           0\n",
       "critic_score       8578\n",
       "user_score         6701\n",
       "rating             6766\n",
       "dtype: int64"
      ]
     },
     "execution_count": 6,
     "metadata": {},
     "output_type": "execute_result"
    }
   ],
   "source": [
    "df.isnull().sum()"
   ]
  },
  {
   "cell_type": "markdown",
   "metadata": {},
   "source": [
    "Пустые значения свидетельствуют о том, что для некоторых игр доступна не вся информация. Причины могут быть разные: скажем, малоизвестные игры не имеют оценок критиков и пользователей, установленного рейтинга; год релиза пропущен из-за многократного его переноса."
   ]
  },
  {
   "cell_type": "markdown",
   "metadata": {},
   "source": [
    "Пустых значений в столбце *year_of_release* немного, удалим их."
   ]
  },
  {
   "cell_type": "code",
   "execution_count": 7,
   "metadata": {},
   "outputs": [],
   "source": [
    "df.dropna(subset=['year_of_release'], inplace=True)"
   ]
  },
  {
   "cell_type": "markdown",
   "metadata": {},
   "source": [
    "Пропуски в столбцах *critic_score*, *user_score*, *rating* оставим без изменения. Замена этих значений на среднее, медиану может повлиять на результаты исследования."
   ]
  },
  {
   "cell_type": "markdown",
   "metadata": {},
   "source": [
    "Вызовем метод .value_counts(), который анализирует столбец, выбирает каждое уникальное значение и подсчитывает частоту его встречаемости в списке. Применим метод к столбцу *user_score*."
   ]
  },
  {
   "cell_type": "code",
   "execution_count": 8,
   "metadata": {},
   "outputs": [
    {
     "data": {
      "text/plain": [
       "tbd    2376\n",
       "7.8     322\n",
       "8       285\n",
       "8.2     276\n",
       "8.3     252\n",
       "       ... \n",
       "1.1       2\n",
       "0.9       2\n",
       "2.3       2\n",
       "9.7       1\n",
       "0         1\n",
       "Name: user_score, Length: 96, dtype: int64"
      ]
     },
     "execution_count": 8,
     "metadata": {},
     "output_type": "execute_result"
    }
   ],
   "source": [
    "df['user_score'].value_counts()"
   ]
  },
  {
   "cell_type": "markdown",
   "metadata": {},
   "source": [
    "В столбце c оценками пользователей содержится аббревиатура 'tbd' ('подлежит уточнению'). Из-за наличия строковых значений в столбце некоторые операции с данными будут невозможны. Превратим эти значения в числовой тип float64 (вещественное число)."
   ]
  },
  {
   "cell_type": "markdown",
   "metadata": {},
   "source": [
    "### Замена типа данных"
   ]
  },
  {
   "cell_type": "markdown",
   "metadata": {},
   "source": [
    "Заменим вещественный тип данных в столбце *year_of_release* на целочисленный методом .astype() c аргументом ('int'). "
   ]
  },
  {
   "cell_type": "code",
   "execution_count": 9,
   "metadata": {},
   "outputs": [],
   "source": [
    "df['year_of_release'] = df['year_of_release'].astype('int')"
   ]
  },
  {
   "cell_type": "markdown",
   "metadata": {},
   "source": [
    "Заменим строковые значения в столбце *user_score* на тип float64 методом to_numeric()."
   ]
  },
  {
   "cell_type": "code",
   "execution_count": 10,
   "metadata": {},
   "outputs": [],
   "source": [
    "df['user_score'] = pd.to_numeric(df['user_score'], errors='coerce') "
   ]
  },
  {
   "cell_type": "markdown",
   "metadata": {},
   "source": [
    "### Добавление новых параметров"
   ]
  },
  {
   "cell_type": "markdown",
   "metadata": {},
   "source": [
    "Посчитаем суммарные продажи во всех регионах и запишем их в отдельный столбец."
   ]
  },
  {
   "cell_type": "code",
   "execution_count": 11,
   "metadata": {},
   "outputs": [],
   "source": [
    "df['all_sales'] = df['na_sales'] + df['eu_sales'] + df['jp_sales'] + df['other_sales']"
   ]
  },
  {
   "cell_type": "code",
   "execution_count": 12,
   "metadata": {},
   "outputs": [
    {
     "data": {
      "text/html": [
       "<div>\n",
       "<style scoped>\n",
       "    .dataframe tbody tr th:only-of-type {\n",
       "        vertical-align: middle;\n",
       "    }\n",
       "\n",
       "    .dataframe tbody tr th {\n",
       "        vertical-align: top;\n",
       "    }\n",
       "\n",
       "    .dataframe thead th {\n",
       "        text-align: right;\n",
       "    }\n",
       "</style>\n",
       "<table border=\"1\" class=\"dataframe\">\n",
       "  <thead>\n",
       "    <tr style=\"text-align: right;\">\n",
       "      <th></th>\n",
       "      <th>name</th>\n",
       "      <th>platform</th>\n",
       "      <th>year_of_release</th>\n",
       "      <th>genre</th>\n",
       "      <th>na_sales</th>\n",
       "      <th>eu_sales</th>\n",
       "      <th>jp_sales</th>\n",
       "      <th>other_sales</th>\n",
       "      <th>critic_score</th>\n",
       "      <th>user_score</th>\n",
       "      <th>rating</th>\n",
       "      <th>all_sales</th>\n",
       "    </tr>\n",
       "  </thead>\n",
       "  <tbody>\n",
       "    <tr>\n",
       "      <td>0</td>\n",
       "      <td>Wii Sports</td>\n",
       "      <td>Wii</td>\n",
       "      <td>2006</td>\n",
       "      <td>Sports</td>\n",
       "      <td>41.36</td>\n",
       "      <td>28.96</td>\n",
       "      <td>3.77</td>\n",
       "      <td>8.45</td>\n",
       "      <td>76.0</td>\n",
       "      <td>8.0</td>\n",
       "      <td>E</td>\n",
       "      <td>82.54</td>\n",
       "    </tr>\n",
       "    <tr>\n",
       "      <td>1</td>\n",
       "      <td>Super Mario Bros.</td>\n",
       "      <td>NES</td>\n",
       "      <td>1985</td>\n",
       "      <td>Platform</td>\n",
       "      <td>29.08</td>\n",
       "      <td>3.58</td>\n",
       "      <td>6.81</td>\n",
       "      <td>0.77</td>\n",
       "      <td>NaN</td>\n",
       "      <td>NaN</td>\n",
       "      <td>NaN</td>\n",
       "      <td>40.24</td>\n",
       "    </tr>\n",
       "    <tr>\n",
       "      <td>2</td>\n",
       "      <td>Mario Kart Wii</td>\n",
       "      <td>Wii</td>\n",
       "      <td>2008</td>\n",
       "      <td>Racing</td>\n",
       "      <td>15.68</td>\n",
       "      <td>12.76</td>\n",
       "      <td>3.79</td>\n",
       "      <td>3.29</td>\n",
       "      <td>82.0</td>\n",
       "      <td>8.3</td>\n",
       "      <td>E</td>\n",
       "      <td>35.52</td>\n",
       "    </tr>\n",
       "    <tr>\n",
       "      <td>3</td>\n",
       "      <td>Wii Sports Resort</td>\n",
       "      <td>Wii</td>\n",
       "      <td>2009</td>\n",
       "      <td>Sports</td>\n",
       "      <td>15.61</td>\n",
       "      <td>10.93</td>\n",
       "      <td>3.28</td>\n",
       "      <td>2.95</td>\n",
       "      <td>80.0</td>\n",
       "      <td>8.0</td>\n",
       "      <td>E</td>\n",
       "      <td>32.77</td>\n",
       "    </tr>\n",
       "    <tr>\n",
       "      <td>4</td>\n",
       "      <td>Pokemon Red/Pokemon Blue</td>\n",
       "      <td>GB</td>\n",
       "      <td>1996</td>\n",
       "      <td>Role-Playing</td>\n",
       "      <td>11.27</td>\n",
       "      <td>8.89</td>\n",
       "      <td>10.22</td>\n",
       "      <td>1.00</td>\n",
       "      <td>NaN</td>\n",
       "      <td>NaN</td>\n",
       "      <td>NaN</td>\n",
       "      <td>31.38</td>\n",
       "    </tr>\n",
       "  </tbody>\n",
       "</table>\n",
       "</div>"
      ],
      "text/plain": [
       "                       name platform  year_of_release         genre  na_sales  \\\n",
       "0                Wii Sports      Wii             2006        Sports     41.36   \n",
       "1         Super Mario Bros.      NES             1985      Platform     29.08   \n",
       "2            Mario Kart Wii      Wii             2008        Racing     15.68   \n",
       "3         Wii Sports Resort      Wii             2009        Sports     15.61   \n",
       "4  Pokemon Red/Pokemon Blue       GB             1996  Role-Playing     11.27   \n",
       "\n",
       "   eu_sales  jp_sales  other_sales  critic_score  user_score rating  all_sales  \n",
       "0     28.96      3.77         8.45          76.0         8.0      E      82.54  \n",
       "1      3.58      6.81         0.77           NaN         NaN    NaN      40.24  \n",
       "2     12.76      3.79         3.29          82.0         8.3      E      35.52  \n",
       "3     10.93      3.28         2.95          80.0         8.0      E      32.77  \n",
       "4      8.89     10.22         1.00           NaN         NaN    NaN      31.38  "
      ]
     },
     "execution_count": 12,
     "metadata": {},
     "output_type": "execute_result"
    }
   ],
   "source": [
    "df.head()"
   ]
  },
  {
   "cell_type": "markdown",
   "metadata": {},
   "source": [
    "### Вывод"
   ]
  },
  {
   "cell_type": "markdown",
   "metadata": {},
   "source": [
    "На этапе предобработки данных обнаружились пропуски, которые было решено оставить без изменения, так как подходящего значения на замену не нашлось и обработка этих значений может повлиять на результаты исследования. Строки с пропусками в столбце *year_of_release* были удалены, так как их немного. Также мы изменили тип данных, где это было нужно и добавили в таблицу новые параметры. "
   ]
  },
  {
   "cell_type": "markdown",
   "metadata": {},
   "source": [
    "## Исследовательский анализ данных. <a id=\"step3\"></a> "
   ]
  },
  {
   "cell_type": "markdown",
   "metadata": {},
   "source": [
    "Посмотрим, сколько игр выпускалось в разные годы."
   ]
  },
  {
   "cell_type": "code",
   "execution_count": 13,
   "metadata": {},
   "outputs": [
    {
     "data": {
      "text/plain": [
       "Text(0.5, 1.0, 'Распределение количества игр по годам')"
      ]
     },
     "execution_count": 13,
     "metadata": {},
     "output_type": "execute_result"
    },
    {
     "data": {
      "image/png": "[encoded data removed]",
      "text/plain": [
       "<Figure size 504x360 with 1 Axes>"
      ]
     },
     "metadata": {
      "needs_background": "light"
     },
     "output_type": "display_data"
    }
   ],
   "source": [
    "df['year_of_release'].hist(grid=True, figsize=(7,5), alpha=0.4)\n",
    "plt.ylabel('Количество игр')\n",
    "plt.xlabel('Год')\n",
    "plt.title('Распределение количества игр по годам')"
   ]
  },
  {
   "cell_type": "markdown",
   "metadata": {},
   "source": [
    "\"Скачек\" в выпуске игр произошел в 2000-х. Для нашего исследования возьмем срез данных по дате релиза начиная с 2000 года."
   ]
  },
  {
   "cell_type": "code",
   "execution_count": 14,
   "metadata": {},
   "outputs": [],
   "source": [
    "df_after_2000 = df.query('year_of_release >= 2000')"
   ]
  },
  {
   "cell_type": "markdown",
   "metadata": {},
   "source": [
    "Посмотрим, как менялись продажи по платформам. Выберим платформы с наибольшими суммарными продажами. "
   ]
  },
  {
   "cell_type": "code",
   "execution_count": 15,
   "metadata": {},
   "outputs": [
    {
     "data": {
      "text/html": [
       "<div>\n",
       "<style scoped>\n",
       "    .dataframe tbody tr th:only-of-type {\n",
       "        vertical-align: middle;\n",
       "    }\n",
       "\n",
       "    .dataframe tbody tr th {\n",
       "        vertical-align: top;\n",
       "    }\n",
       "\n",
       "    .dataframe thead th {\n",
       "        text-align: right;\n",
       "    }\n",
       "</style>\n",
       "<table border=\"1\" class=\"dataframe\">\n",
       "  <thead>\n",
       "    <tr style=\"text-align: right;\">\n",
       "      <th></th>\n",
       "      <th>platform</th>\n",
       "      <th>all_sales</th>\n",
       "    </tr>\n",
       "  </thead>\n",
       "  <tbody>\n",
       "    <tr>\n",
       "      <td>0</td>\n",
       "      <td>PS2</td>\n",
       "      <td>1233.56</td>\n",
       "    </tr>\n",
       "    <tr>\n",
       "      <td>1</td>\n",
       "      <td>X360</td>\n",
       "      <td>961.24</td>\n",
       "    </tr>\n",
       "    <tr>\n",
       "      <td>2</td>\n",
       "      <td>PS3</td>\n",
       "      <td>931.34</td>\n",
       "    </tr>\n",
       "    <tr>\n",
       "      <td>3</td>\n",
       "      <td>Wii</td>\n",
       "      <td>891.18</td>\n",
       "    </tr>\n",
       "    <tr>\n",
       "      <td>4</td>\n",
       "      <td>DS</td>\n",
       "      <td>802.76</td>\n",
       "    </tr>\n",
       "  </tbody>\n",
       "</table>\n",
       "</div>"
      ],
      "text/plain": [
       "  platform  all_sales\n",
       "0      PS2    1233.56\n",
       "1     X360     961.24\n",
       "2      PS3     931.34\n",
       "3      Wii     891.18\n",
       "4       DS     802.76"
      ]
     },
     "execution_count": 15,
     "metadata": {},
     "output_type": "execute_result"
    }
   ],
   "source": [
    "top_platforms = df_after_2000.groupby('platform')['all_sales'].sum().sort_values(ascending = False).reset_index()\n",
    "\n",
    "top_platforms.head()"
   ]
  },
  {
   "cell_type": "markdown",
   "metadata": {},
   "source": [
    "Платформы с наибольшими суммарными продажами - PS2, X360, PS3. Построим по этим платформам распределение суммарных продаж по годам."
   ]
  },
  {
   "cell_type": "code",
   "execution_count": 16,
   "metadata": {},
   "outputs": [],
   "source": [
    "top_platforms_list = ['PS2', 'X360', 'PS3']"
   ]
  },
  {
   "cell_type": "code",
   "execution_count": 17,
   "metadata": {},
   "outputs": [],
   "source": [
    "df_top = df_after_2000.query('platform == @top_platforms_list').reset_index(drop=True)"
   ]
  },
  {
   "cell_type": "code",
   "execution_count": 18,
   "metadata": {},
   "outputs": [],
   "source": [
    "df_top_pivot = df_top.pivot_table(index='year_of_release', columns='platform', values='all_sales', aggfunc='sum').reset_index()"
   ]
  },
  {
   "cell_type": "code",
   "execution_count": 19,
   "metadata": {},
   "outputs": [
    {
     "data": {
      "image/png": "[encoded data removed]",
      "text/plain": [
       "<Figure size 1152x360 with 1 Axes>"
      ]
     },
     "metadata": {
      "needs_background": "light"
     },
     "output_type": "display_data"
    }
   ],
   "source": [
    "fig, (ax1) = plt.subplots(nrows=1, ncols=1, figsize=(16, 5))\n",
    "\n",
    "ax1.set_ylabel('Суммарные продажи, млн.', fontsize=12)\n",
    "ax1.set_xlabel('Год', fontsize=12)\n",
    "\n",
    "year_index = np.arange(df_top_pivot['year_of_release'].min(), df_top_pivot['year_of_release'].max()+1)\n",
    "width = 0.3\n",
    "plt.bar(df_top_pivot['year_of_release'], df_top_pivot['PS2'], width, alpha=0.2, color = \"b\", label=\"PS2\")\n",
    "plt.bar(df_top_pivot['year_of_release']+ width, df_top_pivot['X360'], width, alpha=0.2, color = \"g\", label=\"X360\")\n",
    "plt.bar(df_top_pivot['year_of_release']+ width+width, df_top_pivot['PS3'], width, alpha=0.2, color = \"r\", label=\"PS3\")\n",
    "plt.xticks(year_index)\n",
    "plt.legend()\n",
    "plt.title('Распределение суммарных продаж платформ PS2, X360, PS3 по годам')\n",
    "plt.show()"
   ]
  },
  {
   "cell_type": "markdown",
   "metadata": {},
   "source": [
    "По графику видно, что \"период жизни\" игровой платформы - в районе 10 лет. За этот срок суммарные продажи по ней достигают максимума и опускаются до минимума."
   ]
  },
  {
   "cell_type": "markdown",
   "metadata": {},
   "source": [
    "Для прогноза на 2017 год возьмем актуальный срез данных - начиная с 2013 года. Так мы сможем выбрать платформы, которые растут и лидируют по продажам, а так же не брать в расчет платформы с истекающим \"сроком жизни\"."
   ]
  },
  {
   "cell_type": "code",
   "execution_count": 20,
   "metadata": {},
   "outputs": [
    {
     "data": {
      "text/html": [
       "<div>\n",
       "<style scoped>\n",
       "    .dataframe tbody tr th:only-of-type {\n",
       "        vertical-align: middle;\n",
       "    }\n",
       "\n",
       "    .dataframe tbody tr th {\n",
       "        vertical-align: top;\n",
       "    }\n",
       "\n",
       "    .dataframe thead th {\n",
       "        text-align: right;\n",
       "    }\n",
       "</style>\n",
       "<table border=\"1\" class=\"dataframe\">\n",
       "  <thead>\n",
       "    <tr style=\"text-align: right;\">\n",
       "      <th>platform</th>\n",
       "      <th>year_of_release</th>\n",
       "      <th>3DS</th>\n",
       "      <th>DS</th>\n",
       "      <th>PC</th>\n",
       "      <th>PS3</th>\n",
       "      <th>PS4</th>\n",
       "      <th>PSP</th>\n",
       "      <th>PSV</th>\n",
       "      <th>Wii</th>\n",
       "      <th>WiiU</th>\n",
       "      <th>X360</th>\n",
       "      <th>XOne</th>\n",
       "    </tr>\n",
       "  </thead>\n",
       "  <tbody>\n",
       "    <tr>\n",
       "      <td>0</td>\n",
       "      <td>2013</td>\n",
       "      <td>56.57</td>\n",
       "      <td>1.54</td>\n",
       "      <td>12.38</td>\n",
       "      <td>113.25</td>\n",
       "      <td>25.99</td>\n",
       "      <td>3.14</td>\n",
       "      <td>10.59</td>\n",
       "      <td>8.59</td>\n",
       "      <td>21.65</td>\n",
       "      <td>88.58</td>\n",
       "      <td>18.96</td>\n",
       "    </tr>\n",
       "    <tr>\n",
       "      <td>1</td>\n",
       "      <td>2014</td>\n",
       "      <td>43.76</td>\n",
       "      <td>NaN</td>\n",
       "      <td>13.28</td>\n",
       "      <td>47.76</td>\n",
       "      <td>100.00</td>\n",
       "      <td>0.24</td>\n",
       "      <td>11.90</td>\n",
       "      <td>3.75</td>\n",
       "      <td>22.03</td>\n",
       "      <td>34.74</td>\n",
       "      <td>54.07</td>\n",
       "    </tr>\n",
       "    <tr>\n",
       "      <td>2</td>\n",
       "      <td>2015</td>\n",
       "      <td>27.78</td>\n",
       "      <td>NaN</td>\n",
       "      <td>8.52</td>\n",
       "      <td>16.82</td>\n",
       "      <td>118.90</td>\n",
       "      <td>0.12</td>\n",
       "      <td>6.25</td>\n",
       "      <td>1.14</td>\n",
       "      <td>16.35</td>\n",
       "      <td>11.96</td>\n",
       "      <td>60.14</td>\n",
       "    </tr>\n",
       "    <tr>\n",
       "      <td>3</td>\n",
       "      <td>2016</td>\n",
       "      <td>15.14</td>\n",
       "      <td>NaN</td>\n",
       "      <td>5.25</td>\n",
       "      <td>3.60</td>\n",
       "      <td>69.25</td>\n",
       "      <td>NaN</td>\n",
       "      <td>4.25</td>\n",
       "      <td>0.18</td>\n",
       "      <td>4.60</td>\n",
       "      <td>1.52</td>\n",
       "      <td>26.15</td>\n",
       "    </tr>\n",
       "  </tbody>\n",
       "</table>\n",
       "</div>"
      ],
      "text/plain": [
       "platform  year_of_release    3DS    DS     PC     PS3     PS4   PSP    PSV  \\\n",
       "0                    2013  56.57  1.54  12.38  113.25   25.99  3.14  10.59   \n",
       "1                    2014  43.76   NaN  13.28   47.76  100.00  0.24  11.90   \n",
       "2                    2015  27.78   NaN   8.52   16.82  118.90  0.12   6.25   \n",
       "3                    2016  15.14   NaN   5.25    3.60   69.25   NaN   4.25   \n",
       "\n",
       "platform   Wii   WiiU   X360   XOne  \n",
       "0         8.59  21.65  88.58  18.96  \n",
       "1         3.75  22.03  34.74  54.07  \n",
       "2         1.14  16.35  11.96  60.14  \n",
       "3         0.18   4.60   1.52  26.15  "
      ]
     },
     "execution_count": 20,
     "metadata": {},
     "output_type": "execute_result"
    }
   ],
   "source": [
    "df_actual = df.query('year_of_release >= 2013').reset_index(drop=True)\n",
    "df_actual_pivot = df_actual.pivot_table(index='year_of_release', columns='platform',\\\n",
    "                                        values='all_sales', aggfunc='sum').reset_index()\n",
    "df_actual_pivot.head()"
   ]
  },
  {
   "cell_type": "markdown",
   "metadata": {},
   "source": [
    "По таблице видно, что подходящие платформы - PS4, XOne. Сделаем срез данных по этим платформам. "
   ]
  },
  {
   "cell_type": "code",
   "execution_count": 21,
   "metadata": {},
   "outputs": [],
   "source": [
    "top_platforms_actual_list = ['PS4', 'XOne']\n",
    "df_top_actual = df_actual.query('platform == @top_platforms_actual_list').reset_index(drop=True)"
   ]
  },
  {
   "cell_type": "markdown",
   "metadata": {},
   "source": [
    "Построим график «ящик с усами» по глобальным продажам игр в разбивке по платформам. Опишем результат."
   ]
  },
  {
   "cell_type": "code",
   "execution_count": 22,
   "metadata": {},
   "outputs": [
    {
     "data": {
      "text/plain": [
       "Text(0, 0.5, 'Суммарные продажи, млн.')"
      ]
     },
     "execution_count": 22,
     "metadata": {},
     "output_type": "execute_result"
    },
    {
     "data": {
      "image/png": "[encoded data removed]",
      "text/plain": [
       "<Figure size 720x576 with 1 Axes>"
      ]
     },
     "metadata": {
      "needs_background": "light"
     },
     "output_type": "display_data"
    }
   ],
   "source": [
    "ax = plt.subplots(figsize=(10, 8))\n",
    "ax = sns.boxplot(x=\"platform\", y=\"all_sales\", data=df_top_actual, palette='pastel', width=0.7)\n",
    "ax.set(ylim=(0, 2))\n",
    "ax.set_title('Распределение суммарных продаж по платформам', fontsize=12)\n",
    "ax.set_xlabel('Название платформы', fontsize=12)\n",
    "ax.set_ylabel('Суммарные продажи, млн.', fontsize=12)"
   ]
  },
  {
   "cell_type": "markdown",
   "metadata": {},
   "source": [
    "Оба графика скошены вправо (то есть в сторону положительного направления оси с учётом ориентации именно этого изображения — вверх). Расстояние между первым квартилем и медианой заметно меньше, чем расстояние между медианой и третьим квартилем. Распределение нессиметрично с длинным правым хвостом. У основной части игр, выпущенных на платформах PS4 и XOne количество продаж ощутимо превышает медиану. Медиана продаж XOne чуть больше, чем медиана продаж PS4, но по количеству продаж максимальное значение у платформы PS4. Точками на графике обозначаются выбросы — те значения, которые не вписываются в промежуток значений, заданный усами графика."
   ]
  },
  {
   "cell_type": "markdown",
   "metadata": {},
   "source": [
    "Посмотрим, как влияют на продажи внутри платформы отзывы пользователей и критиков. Построим диаграмму рассеяния и посчитаем корреляцию между отзывами и продажами."
   ]
  },
  {
   "cell_type": "code",
   "execution_count": 23,
   "metadata": {},
   "outputs": [
    {
     "data": {
      "image/png": "[encoded data removed]",
      "text/plain": [
       "<Figure size 432x288 with 1 Axes>"
      ]
     },
     "metadata": {
      "needs_background": "light"
     },
     "output_type": "display_data"
    },
    {
     "data": {
      "image/png": "[encoded data removed]",
      "text/plain": [
       "<Figure size 432x288 with 1 Axes>"
      ]
     },
     "metadata": {
      "needs_background": "light"
     },
     "output_type": "display_data"
    }
   ],
   "source": [
    "df_ps4 = df_top_actual.query('platform == \"PS4\"').reset_index(drop=True)\n",
    "\n",
    "y_columns = ['critic_score', 'user_score']\n",
    "for y in y_columns:\n",
    "    df_ps4.plot(x='all_sales', y=y, kind='scatter', alpha=0.3, title='Зависимость суммарных продаж от отзывов')\n",
    "    plt.xlabel('Суммарные продажи платформы PS4, млн.')"
   ]
  },
  {
   "cell_type": "code",
   "execution_count": 24,
   "metadata": {},
   "outputs": [
    {
     "name": "stdout",
     "output_type": "stream",
     "text": [
      "0.40656790206178095\n",
      "-0.031957110204556424\n"
     ]
    }
   ],
   "source": [
    "print(df_ps4['critic_score'].corr(df_ps4['all_sales']))\n",
    "print(df_ps4['user_score'].corr(df_ps4['all_sales']))"
   ]
  },
  {
   "cell_type": "markdown",
   "metadata": {},
   "source": [
    "По графикам видно, что взаимосвязь между оценками пользователей, критиков и продажами игр на платформе PS4 слабая. Корреляция в 0,41 между оценками критиков и продажами говорит о наличии связи, однако не слишком сильной. Корреляция в 0,03 говорит о том, что связь между оценками ползователей и продажами слабая, либо отсутсвует вовсе, либо у связи более сложный, не линейный характер."
   ]
  },
  {
   "cell_type": "code",
   "execution_count": 25,
   "metadata": {},
   "outputs": [
    {
     "data": {
      "image/png": "[encoded data removed]",
      "text/plain": [
       "<Figure size 432x288 with 1 Axes>"
      ]
     },
     "metadata": {
      "needs_background": "light"
     },
     "output_type": "display_data"
    },
    {
     "data": {
      "image/png": "[encoded data removed]",
      "text/plain": [
       "<Figure size 432x288 with 1 Axes>"
      ]
     },
     "metadata": {
      "needs_background": "light"
     },
     "output_type": "display_data"
    }
   ],
   "source": [
    "df_xone = df_top_actual.query('platform == \"XOne\"').reset_index(drop=True)\n",
    "\n",
    "y_columns = ['critic_score', 'user_score']\n",
    "for y in y_columns:\n",
    "    df_xone.plot(x='all_sales', y=y, kind='scatter', alpha=0.3, title='Зависимость суммарных продаж от отзывов')\n",
    "    plt.xlabel('Суммарные продажи платформы XOne, млн.')"
   ]
  },
  {
   "cell_type": "code",
   "execution_count": 26,
   "metadata": {},
   "outputs": [
    {
     "name": "stdout",
     "output_type": "stream",
     "text": [
      "0.4169983280084017\n",
      "-0.06892505328279414\n"
     ]
    }
   ],
   "source": [
    "print(df_xone['critic_score'].corr(df_xone['all_sales']))\n",
    "print(df_xone['user_score'].corr(df_xone['all_sales']))"
   ]
  },
  {
   "cell_type": "markdown",
   "metadata": {},
   "source": [
    "По графикам видно, что взаимосвязь между оценками пользователей, критиков и продажами игр на платформе XOne слабая. Корреляция в 0,42 между оценками критиков и продажами говорит о наличии связи, однако не слишком сильной. Корреляция в 0,07 говорит о том, что связь между оценками ползователей и продажами слабая, либо отсутсвует вовсе, либо у связи более сложный, не линейный характер.\n",
    "\n",
    "На продажи игр на платформах PS4, XOne не влияют отзывы пользователей и критиков."
   ]
  },
  {
   "cell_type": "markdown",
   "metadata": {},
   "source": [
    "Посмотрим на общее распределение игр по жанрам. "
   ]
  },
  {
   "cell_type": "code",
   "execution_count": 27,
   "metadata": {},
   "outputs": [
    {
     "data": {
      "text/plain": [
       "Text(0, 0.5, 'Суммарные продажи, млн.')"
      ]
     },
     "execution_count": 27,
     "metadata": {},
     "output_type": "execute_result"
    },
    {
     "data": {
      "image/png": "[encoded data removed]",
      "text/plain": [
       "<Figure size 1080x504 with 1 Axes>"
      ]
     },
     "metadata": {
      "needs_background": "light"
     },
     "output_type": "display_data"
    }
   ],
   "source": [
    "genre_pivot = df_actual.pivot_table(index='genre', values='all_sales', aggfunc = {'sum'}).sort_values(by='sum')\n",
    "f = plt.subplots(figsize=(15,7))\n",
    "f = sns.barplot(x=genre_pivot.index, y='sum', data=genre_pivot, palette='pastel')\n",
    "f.set_title('Распределение суммарных продаж по жанрам', fontsize=12)\n",
    "f.set_xlabel('Название жанра', fontsize=12)\n",
    "f.set_ylabel('Суммарные продажи, млн.', fontsize=12)"
   ]
  },
  {
   "cell_type": "markdown",
   "metadata": {},
   "source": [
    "Жанры с самыми низкими продажами: Puzzle, Strategy, Simulation, Adventure. Наиболее продаваемые жанры: Action, Shooter,  Sports, Role-Playing."
   ]
  },
  {
   "cell_type": "markdown",
   "metadata": {},
   "source": [
    "### Вывод"
   ]
  },
  {
   "cell_type": "markdown",
   "metadata": {},
   "source": [
    "Успешность игры (ее продажы) не зависит от оценок пользователей и критиков, но зависит от жанра. Самые продаваемые игры с жанрами: Action, Shooter,  Sports, Role-Playing. Потенциально популярные платформы на 2017 год - PS4, XOne."
   ]
  },
  {
   "cell_type": "markdown",
   "metadata": {},
   "source": [
    "## Анализ пользователей каждого региона. <a id=\"step4\"></a> "
   ]
  },
  {
   "cell_type": "markdown",
   "metadata": {},
   "source": [
    "Составим портрет пользователя каждого региона."
   ]
  },
  {
   "cell_type": "markdown",
   "metadata": {},
   "source": [
    "1. Определим для пользователя каждого региона (NA, EU, JP) самые популярные платформы (топ-5)."
   ]
  },
  {
   "cell_type": "code",
   "execution_count": 28,
   "metadata": {},
   "outputs": [
    {
     "data": {
      "text/html": [
       "<div>\n",
       "<style scoped>\n",
       "    .dataframe tbody tr th:only-of-type {\n",
       "        vertical-align: middle;\n",
       "    }\n",
       "\n",
       "    .dataframe tbody tr th {\n",
       "        vertical-align: top;\n",
       "    }\n",
       "\n",
       "    .dataframe thead th {\n",
       "        text-align: right;\n",
       "    }\n",
       "</style>\n",
       "<table border=\"1\" class=\"dataframe\">\n",
       "  <thead>\n",
       "    <tr style=\"text-align: right;\">\n",
       "      <th></th>\n",
       "      <th>na_sales</th>\n",
       "    </tr>\n",
       "    <tr>\n",
       "      <th>platform</th>\n",
       "      <th></th>\n",
       "    </tr>\n",
       "  </thead>\n",
       "  <tbody>\n",
       "    <tr>\n",
       "      <td>PS4</td>\n",
       "      <td>108.74</td>\n",
       "    </tr>\n",
       "    <tr>\n",
       "      <td>XOne</td>\n",
       "      <td>93.12</td>\n",
       "    </tr>\n",
       "    <tr>\n",
       "      <td>X360</td>\n",
       "      <td>81.66</td>\n",
       "    </tr>\n",
       "    <tr>\n",
       "      <td>PS3</td>\n",
       "      <td>63.50</td>\n",
       "    </tr>\n",
       "    <tr>\n",
       "      <td>3DS</td>\n",
       "      <td>38.20</td>\n",
       "    </tr>\n",
       "  </tbody>\n",
       "</table>\n",
       "</div>"
      ],
      "text/plain": [
       "          na_sales\n",
       "platform          \n",
       "PS4         108.74\n",
       "XOne         93.12\n",
       "X360         81.66\n",
       "PS3          63.50\n",
       "3DS          38.20"
      ]
     },
     "execution_count": 28,
     "metadata": {},
     "output_type": "execute_result"
    }
   ],
   "source": [
    "df_platform_na_sales = df_actual.pivot_table(index='platform', values=['na_sales'], aggfunc='sum')\\\n",
    ".sort_values(by='na_sales', ascending = False)\n",
    "df_platform_na_sales.head()"
   ]
  },
  {
   "cell_type": "markdown",
   "metadata": {},
   "source": [
    "**Топ-5 платформ для пользователей в Северной Америке**: PS4, XOne, X360, PS3, 3DS."
   ]
  },
  {
   "cell_type": "code",
   "execution_count": 29,
   "metadata": {},
   "outputs": [
    {
     "data": {
      "text/html": [
       "<div>\n",
       "<style scoped>\n",
       "    .dataframe tbody tr th:only-of-type {\n",
       "        vertical-align: middle;\n",
       "    }\n",
       "\n",
       "    .dataframe tbody tr th {\n",
       "        vertical-align: top;\n",
       "    }\n",
       "\n",
       "    .dataframe thead th {\n",
       "        text-align: right;\n",
       "    }\n",
       "</style>\n",
       "<table border=\"1\" class=\"dataframe\">\n",
       "  <thead>\n",
       "    <tr style=\"text-align: right;\">\n",
       "      <th></th>\n",
       "      <th>eu_sales</th>\n",
       "    </tr>\n",
       "    <tr>\n",
       "      <th>platform</th>\n",
       "      <th></th>\n",
       "    </tr>\n",
       "  </thead>\n",
       "  <tbody>\n",
       "    <tr>\n",
       "      <td>PS4</td>\n",
       "      <td>141.09</td>\n",
       "    </tr>\n",
       "    <tr>\n",
       "      <td>PS3</td>\n",
       "      <td>67.81</td>\n",
       "    </tr>\n",
       "    <tr>\n",
       "      <td>XOne</td>\n",
       "      <td>51.59</td>\n",
       "    </tr>\n",
       "    <tr>\n",
       "      <td>X360</td>\n",
       "      <td>42.52</td>\n",
       "    </tr>\n",
       "    <tr>\n",
       "      <td>3DS</td>\n",
       "      <td>30.96</td>\n",
       "    </tr>\n",
       "  </tbody>\n",
       "</table>\n",
       "</div>"
      ],
      "text/plain": [
       "          eu_sales\n",
       "platform          \n",
       "PS4         141.09\n",
       "PS3          67.81\n",
       "XOne         51.59\n",
       "X360         42.52\n",
       "3DS          30.96"
      ]
     },
     "execution_count": 29,
     "metadata": {},
     "output_type": "execute_result"
    }
   ],
   "source": [
    "df_platform_eu_sales = df_actual.pivot_table(index='platform', values=['eu_sales'], aggfunc='sum')\\\n",
    ".sort_values(by='eu_sales', ascending = False)\n",
    "df_platform_eu_sales.head()"
   ]
  },
  {
   "cell_type": "markdown",
   "metadata": {},
   "source": [
    "**Топ-5 платформ для пользователей в Европе**: PS4, PS3, XOne, X360, 3DS. В отличии от пользователей из Европы в Северной Америке на втором месте XOne, а PS3 только на четвертом. По всем платформам объем продаж в Северной Америке больше, кроме лидирующей платформы PS4 - в Европе продано на 32,35 млн больше."
   ]
  },
  {
   "cell_type": "code",
   "execution_count": 30,
   "metadata": {},
   "outputs": [
    {
     "data": {
      "text/html": [
       "<div>\n",
       "<style scoped>\n",
       "    .dataframe tbody tr th:only-of-type {\n",
       "        vertical-align: middle;\n",
       "    }\n",
       "\n",
       "    .dataframe tbody tr th {\n",
       "        vertical-align: top;\n",
       "    }\n",
       "\n",
       "    .dataframe thead th {\n",
       "        text-align: right;\n",
       "    }\n",
       "</style>\n",
       "<table border=\"1\" class=\"dataframe\">\n",
       "  <thead>\n",
       "    <tr style=\"text-align: right;\">\n",
       "      <th></th>\n",
       "      <th>jp_sales</th>\n",
       "    </tr>\n",
       "    <tr>\n",
       "      <th>platform</th>\n",
       "      <th></th>\n",
       "    </tr>\n",
       "  </thead>\n",
       "  <tbody>\n",
       "    <tr>\n",
       "      <td>3DS</td>\n",
       "      <td>67.81</td>\n",
       "    </tr>\n",
       "    <tr>\n",
       "      <td>PS3</td>\n",
       "      <td>23.35</td>\n",
       "    </tr>\n",
       "    <tr>\n",
       "      <td>PSV</td>\n",
       "      <td>18.59</td>\n",
       "    </tr>\n",
       "    <tr>\n",
       "      <td>PS4</td>\n",
       "      <td>15.96</td>\n",
       "    </tr>\n",
       "    <tr>\n",
       "      <td>WiiU</td>\n",
       "      <td>10.88</td>\n",
       "    </tr>\n",
       "  </tbody>\n",
       "</table>\n",
       "</div>"
      ],
      "text/plain": [
       "          jp_sales\n",
       "platform          \n",
       "3DS          67.81\n",
       "PS3          23.35\n",
       "PSV          18.59\n",
       "PS4          15.96\n",
       "WiiU         10.88"
      ]
     },
     "execution_count": 30,
     "metadata": {},
     "output_type": "execute_result"
    }
   ],
   "source": [
    "df_platform_jp_sales = df_actual.pivot_table(index='platform', values=['jp_sales'], aggfunc='sum')\\\n",
    ".sort_values(by='jp_sales', ascending = False)\n",
    "df_platform_jp_sales.head()"
   ]
  },
  {
   "cell_type": "markdown",
   "metadata": {},
   "source": [
    "**Топ-5 платформ для пользователей из Японии**: 3DS, PS3, PSV, PS4, WiiU. В Японии в лидерах платформа 3DS, которая в других регионах на 5 месте по продажам. Также в топ входят платформы, которых нет в топ-5 Северной Америки и Европы - это PSV и WiiU. Популярные в Северной Америке и Европе платформы XOne, X360 не вошли в топ-5 в Японии."
   ]
  },
  {
   "cell_type": "markdown",
   "metadata": {},
   "source": [
    "2. Определим для пользователя каждого региона (NA, EU, JP) самые популярные жанры (топ-5)."
   ]
  },
  {
   "cell_type": "code",
   "execution_count": 31,
   "metadata": {},
   "outputs": [
    {
     "data": {
      "text/html": [
       "<div>\n",
       "<style scoped>\n",
       "    .dataframe tbody tr th:only-of-type {\n",
       "        vertical-align: middle;\n",
       "    }\n",
       "\n",
       "    .dataframe tbody tr th {\n",
       "        vertical-align: top;\n",
       "    }\n",
       "\n",
       "    .dataframe thead th {\n",
       "        text-align: right;\n",
       "    }\n",
       "</style>\n",
       "<table border=\"1\" class=\"dataframe\">\n",
       "  <thead>\n",
       "    <tr style=\"text-align: right;\">\n",
       "      <th></th>\n",
       "      <th>na_sales</th>\n",
       "    </tr>\n",
       "    <tr>\n",
       "      <th>genre</th>\n",
       "      <th></th>\n",
       "    </tr>\n",
       "  </thead>\n",
       "  <tbody>\n",
       "    <tr>\n",
       "      <td>Action</td>\n",
       "      <td>126.05</td>\n",
       "    </tr>\n",
       "    <tr>\n",
       "      <td>Shooter</td>\n",
       "      <td>109.74</td>\n",
       "    </tr>\n",
       "    <tr>\n",
       "      <td>Sports</td>\n",
       "      <td>65.27</td>\n",
       "    </tr>\n",
       "    <tr>\n",
       "      <td>Role-Playing</td>\n",
       "      <td>46.40</td>\n",
       "    </tr>\n",
       "    <tr>\n",
       "      <td>Misc</td>\n",
       "      <td>27.49</td>\n",
       "    </tr>\n",
       "  </tbody>\n",
       "</table>\n",
       "</div>"
      ],
      "text/plain": [
       "              na_sales\n",
       "genre                 \n",
       "Action          126.05\n",
       "Shooter         109.74\n",
       "Sports           65.27\n",
       "Role-Playing     46.40\n",
       "Misc             27.49"
      ]
     },
     "execution_count": 31,
     "metadata": {},
     "output_type": "execute_result"
    }
   ],
   "source": [
    "df_genre_na_sales = df_actual.pivot_table(index='genre', values=['na_sales'], aggfunc='sum')\\\n",
    ".sort_values(by='na_sales', ascending = False)\n",
    "df_genre_na_sales.head()"
   ]
  },
  {
   "cell_type": "markdown",
   "metadata": {},
   "source": [
    "**Топ-5 жанров для пользователей из Северной Америки**: Action, Shooter, Sports, Role-Playing, Misc."
   ]
  },
  {
   "cell_type": "code",
   "execution_count": 32,
   "metadata": {},
   "outputs": [
    {
     "data": {
      "text/html": [
       "<div>\n",
       "<style scoped>\n",
       "    .dataframe tbody tr th:only-of-type {\n",
       "        vertical-align: middle;\n",
       "    }\n",
       "\n",
       "    .dataframe tbody tr th {\n",
       "        vertical-align: top;\n",
       "    }\n",
       "\n",
       "    .dataframe thead th {\n",
       "        text-align: right;\n",
       "    }\n",
       "</style>\n",
       "<table border=\"1\" class=\"dataframe\">\n",
       "  <thead>\n",
       "    <tr style=\"text-align: right;\">\n",
       "      <th></th>\n",
       "      <th>eu_sales</th>\n",
       "    </tr>\n",
       "    <tr>\n",
       "      <th>genre</th>\n",
       "      <th></th>\n",
       "    </tr>\n",
       "  </thead>\n",
       "  <tbody>\n",
       "    <tr>\n",
       "      <td>Action</td>\n",
       "      <td>118.13</td>\n",
       "    </tr>\n",
       "    <tr>\n",
       "      <td>Shooter</td>\n",
       "      <td>87.86</td>\n",
       "    </tr>\n",
       "    <tr>\n",
       "      <td>Sports</td>\n",
       "      <td>60.52</td>\n",
       "    </tr>\n",
       "    <tr>\n",
       "      <td>Role-Playing</td>\n",
       "      <td>36.97</td>\n",
       "    </tr>\n",
       "    <tr>\n",
       "      <td>Racing</td>\n",
       "      <td>20.19</td>\n",
       "    </tr>\n",
       "    <tr>\n",
       "      <td>Misc</td>\n",
       "      <td>20.04</td>\n",
       "    </tr>\n",
       "  </tbody>\n",
       "</table>\n",
       "</div>"
      ],
      "text/plain": [
       "              eu_sales\n",
       "genre                 \n",
       "Action          118.13\n",
       "Shooter          87.86\n",
       "Sports           60.52\n",
       "Role-Playing     36.97\n",
       "Racing           20.19\n",
       "Misc             20.04"
      ]
     },
     "execution_count": 32,
     "metadata": {},
     "output_type": "execute_result"
    }
   ],
   "source": [
    "df_genre_eu_sales = df_actual.pivot_table(index='genre', values=['eu_sales'], aggfunc='sum')\\\n",
    ".sort_values(by='eu_sales', ascending = False)\n",
    "df_genre_eu_sales.head(6)"
   ]
  },
  {
   "cell_type": "markdown",
   "metadata": {},
   "source": [
    "**Топ-5 жанров для пользователей из Европы**: Action, Shooter, Sports, Role-Playing, Racing. Топ практически аналогичен топ-5 жанров для Северной Америки, за исключением послелнего места: жанр Misc потеснил жанр Racing, но Misc не сильно остает по продажам и находится на 6 месте."
   ]
  },
  {
   "cell_type": "code",
   "execution_count": 33,
   "metadata": {},
   "outputs": [
    {
     "data": {
      "text/html": [
       "<div>\n",
       "<style scoped>\n",
       "    .dataframe tbody tr th:only-of-type {\n",
       "        vertical-align: middle;\n",
       "    }\n",
       "\n",
       "    .dataframe tbody tr th {\n",
       "        vertical-align: top;\n",
       "    }\n",
       "\n",
       "    .dataframe thead th {\n",
       "        text-align: right;\n",
       "    }\n",
       "</style>\n",
       "<table border=\"1\" class=\"dataframe\">\n",
       "  <thead>\n",
       "    <tr style=\"text-align: right;\">\n",
       "      <th></th>\n",
       "      <th>jp_sales</th>\n",
       "    </tr>\n",
       "    <tr>\n",
       "      <th>genre</th>\n",
       "      <th></th>\n",
       "    </tr>\n",
       "  </thead>\n",
       "  <tbody>\n",
       "    <tr>\n",
       "      <td>Role-Playing</td>\n",
       "      <td>51.04</td>\n",
       "    </tr>\n",
       "    <tr>\n",
       "      <td>Action</td>\n",
       "      <td>40.49</td>\n",
       "    </tr>\n",
       "    <tr>\n",
       "      <td>Misc</td>\n",
       "      <td>9.20</td>\n",
       "    </tr>\n",
       "    <tr>\n",
       "      <td>Fighting</td>\n",
       "      <td>7.65</td>\n",
       "    </tr>\n",
       "    <tr>\n",
       "      <td>Shooter</td>\n",
       "      <td>6.61</td>\n",
       "    </tr>\n",
       "  </tbody>\n",
       "</table>\n",
       "</div>"
      ],
      "text/plain": [
       "              jp_sales\n",
       "genre                 \n",
       "Role-Playing     51.04\n",
       "Action           40.49\n",
       "Misc              9.20\n",
       "Fighting          7.65\n",
       "Shooter           6.61"
      ]
     },
     "execution_count": 33,
     "metadata": {},
     "output_type": "execute_result"
    }
   ],
   "source": [
    "df_genre_jp_sales = df_actual.pivot_table(index='genre', values=['jp_sales'], aggfunc='sum')\\\n",
    ".sort_values(by='jp_sales', ascending = False)\n",
    "df_genre_jp_sales.head()"
   ]
  },
  {
   "cell_type": "markdown",
   "metadata": {},
   "source": [
    "**Топ-5 жанров для пользователей из Японии**: Role-Playing, Action, Misc, Fighting, Shooter. В топ входят жанры, которые отсутвуют в топах Северной Америки и Европы, это - Fighting, Shooter. Лидирующую позицию занимает жанр Role-Playing, который в других регионах находится на 4 месте."
   ]
  },
  {
   "cell_type": "markdown",
   "metadata": {},
   "source": [
    "3. Посмотрим, как влияет рейтинг ESRB на продажи по регионам."
   ]
  },
  {
   "cell_type": "code",
   "execution_count": 34,
   "metadata": {},
   "outputs": [
    {
     "data": {
      "text/plain": [
       "Text(0, 0.5, 'Продажи, млн.')"
      ]
     },
     "execution_count": 34,
     "metadata": {},
     "output_type": "execute_result"
    },
    {
     "data": {
      "image/png": "[encoded data removed]",
      "text/plain": [
       "<Figure size 720x360 with 1 Axes>"
      ]
     },
     "metadata": {
      "needs_background": "light"
     },
     "output_type": "display_data"
    }
   ],
   "source": [
    "ax = plt.subplots(figsize=(10, 5))\n",
    "ax=sns.boxplot(y=\"na_sales\", x=\"rating\", data=df_actual, palette='pastel', width=0.5)\n",
    "ax.set(ylim=(0, 1.25))\n",
    "ax.set_title('Зависимость продаж от рейтинга ESRB для Северной Америки', fontsize=12)\n",
    "ax.set_xlabel('Рейтинг ESRB', fontsize=12)\n",
    "ax.set_ylabel('Продажи, млн.', fontsize=12)"
   ]
  },
  {
   "cell_type": "code",
   "execution_count": 35,
   "metadata": {},
   "outputs": [
    {
     "data": {
      "text/plain": [
       "Text(0, 0.5, 'Продажи, млн.')"
      ]
     },
     "execution_count": 35,
     "metadata": {},
     "output_type": "execute_result"
    },
    {
     "data": {
      "image/png": "[encoded data removed]",
      "text/plain": [
       "<Figure size 720x360 with 1 Axes>"
      ]
     },
     "metadata": {
      "needs_background": "light"
     },
     "output_type": "display_data"
    }
   ],
   "source": [
    "ax = plt.subplots(figsize=(10, 5))\n",
    "ax=sns.boxplot(y=\"eu_sales\", x=\"rating\", data=df_actual, palette='pastel', width=0.5)\n",
    "ax.set(ylim=(0, 1.25))\n",
    "ax.set_title('Зависимость продаж от рейтинга ESRB для Европы', fontsize=12)\n",
    "ax.set_xlabel('Рейтинг ESRB', fontsize=12)\n",
    "ax.set_ylabel('Продажи, млн.', fontsize=12)"
   ]
  },
  {
   "cell_type": "code",
   "execution_count": 36,
   "metadata": {},
   "outputs": [
    {
     "data": {
      "text/plain": [
       "Text(0, 0.5, 'Продажи, млн.')"
      ]
     },
     "execution_count": 36,
     "metadata": {},
     "output_type": "execute_result"
    },
    {
     "data": {
      "image/png": "[encoded data removed]",
      "text/plain": [
       "<Figure size 720x360 with 1 Axes>"
      ]
     },
     "metadata": {
      "needs_background": "light"
     },
     "output_type": "display_data"
    }
   ],
   "source": [
    "ax = plt.subplots(figsize=(10, 5))\n",
    "ax=sns.boxplot(y=\"jp_sales\", x=\"rating\", data=df_actual, palette='pastel', width=0.5)\n",
    "ax.set(ylim=(0, 0.2))\n",
    "ax.set_title('Зависимость продаж от рейтинга ESRB для Японии', fontsize=12)\n",
    "ax.set_xlabel('Рейтинг ESRB', fontsize=12)\n",
    "ax.set_ylabel('Продажи, млн.', fontsize=12)"
   ]
  },
  {
   "cell_type": "markdown",
   "metadata": {},
   "source": [
    "Как видно из графиков, ситуация в Северной Америке и Европе похожа: больше всего игр продают с рейтингом М. В Японии же уверенно лидируют игры с рейтингом Т и практически не продаются игры с рейтингом Е10+."
   ]
  },
  {
   "cell_type": "markdown",
   "metadata": {},
   "source": [
    "### Вывод"
   ]
  },
  {
   "cell_type": "markdown",
   "metadata": {},
   "source": [
    "Успешность платформ и игр зависит от региона продаж.\n",
    "\n",
    "Пользователи в Северной Америке и Европе похожи по своим предпочтениям, в топ входят одинаковые платформы (PS4, XOne, X360, PS3, 3DS) и жанры (Action, Shooter, Sports, Role-Playing, Racing, Misc). Мы видим в этих списках платформы и жанры, которые мы определили, как перспективные на 2017 год: платформы - PS4, XOne, жанры - Action, Sports, Shooter, Role-Playing.\n",
    "\n",
    "Рынок игр в Японии по объему продаж меньше, чем североамериканский и европейский и обладает своими особенностями. В топ-5 входят следующие платформы: 3DS, PS3, PSV, PS4, WiiU. В топ-5 жанров входят Role-Playing, Action, Misc, Fighting, Shooter. Как видно, в пятерку входят платформы и жанры, которые не встречаются в топ-5 в Северной Америке и Европе и лидирующие места занимают платформа 3DS и жанр Role-Playing.\n",
    "\n",
    "В Японии больше всего продаж игр с рейтингом Т, в Северной Америке и Европе - с рейтингом М (при этом игр с рейтингом Т продается меньше всего)."
   ]
  },
  {
   "cell_type": "markdown",
   "metadata": {},
   "source": [
    "## Проверка гипотез. <a id=\"step5\"></a> "
   ]
  },
  {
   "cell_type": "markdown",
   "metadata": {},
   "source": [
    "1. Проверим гипотезу: средние пользовательские рейтинги платформ Xbox One и PC одинаковые."
   ]
  },
  {
   "cell_type": "markdown",
   "metadata": {},
   "source": [
    "Сформулируем нулевую гипотезу H₀: средний пользовательский рейтинг платформы Xbox One равен среднему пользовательскому рейтингу платформы РС. Сформулируем альтернативную гипотезу H₁: средний пользовательский рейтинг платформы Xbox One не равен среднему пользовательскому рейтингу платформы РС."
   ]
  },
  {
   "cell_type": "code",
   "execution_count": 37,
   "metadata": {},
   "outputs": [],
   "source": [
    "df.dropna(subset=['user_score'], inplace=True)"
   ]
  },
  {
   "cell_type": "code",
   "execution_count": 38,
   "metadata": {},
   "outputs": [],
   "source": [
    "df_xbox_one = df.query('platform == \"XOne\"').reset_index(drop=True)\n",
    "df_pc = df.query('platform == \"PC\"').reset_index(drop=True)"
   ]
  },
  {
   "cell_type": "markdown",
   "metadata": {},
   "source": [
    "Сравним дисперсии выборок для корректного определения атрибута `equal_val` в Т–тесте."
   ]
  },
  {
   "cell_type": "code",
   "execution_count": 39,
   "metadata": {},
   "outputs": [
    {
     "name": "stdout",
     "output_type": "stream",
     "text": [
      "Дисперсия выборки для платформы Xbox One: 1.9069968429360695\n"
     ]
    }
   ],
   "source": [
    "variance_xbox = np.var(df_xbox_one['user_score'], ddof=1)\n",
    "print('Дисперсия выборки для платформы Xbox One:', variance_xbox)"
   ]
  },
  {
   "cell_type": "code",
   "execution_count": 40,
   "metadata": {},
   "outputs": [
    {
     "name": "stdout",
     "output_type": "stream",
     "text": [
      "Дисперсия выборки для платформы РС: 2.349224375076853\n"
     ]
    }
   ],
   "source": [
    "variance_pc = np.var(df_pc['user_score'], ddof=1)\n",
    "print('Дисперсия выборки для платформы РС:', variance_pc)"
   ]
  },
  {
   "cell_type": "markdown",
   "metadata": {},
   "source": [
    "Дисперсии различаются более чем на 5%, считаем отличие значимым и выбираем `equal_var = False`."
   ]
  },
  {
   "cell_type": "code",
   "execution_count": 41,
   "metadata": {},
   "outputs": [
    {
     "name": "stdout",
     "output_type": "stream",
     "text": [
      "6.521428571428572\n",
      "7.065960264900661\n"
     ]
    }
   ],
   "source": [
    "print(df_xbox_one['user_score'].mean())\n",
    "print(df_pc['user_score'].mean())"
   ]
  },
  {
   "cell_type": "code",
   "execution_count": 42,
   "metadata": {},
   "outputs": [
    {
     "name": "stdout",
     "output_type": "stream",
     "text": [
      "p-значение: 4.5385802963771776e-06\n",
      "Отвергаем нулевую гипотезу.\n"
     ]
    }
   ],
   "source": [
    "alpha = 0.05\n",
    "\n",
    "results = st.ttest_ind(\n",
    "    df_xbox_one['user_score'], \n",
    "    df_pc['user_score'], equal_var = False)\n",
    "\n",
    "print('p-значение:', results.pvalue)\n",
    "\n",
    "if results.pvalue < alpha:\n",
    "    print('Отвергаем нулевую гипотезу.')\n",
    "else:\n",
    "    print('Не получилось отвергнуть нулевую гипотезу.') "
   ]
  },
  {
   "cell_type": "markdown",
   "metadata": {},
   "source": [
    "2. Проверим гипотезу: cредний пользовательский рейтинг жанра Action (англ. «действие», экшен-игры) равен cреднему пользовательскому рейтингу жанра Sports (англ. «спортивные соревнования»)."
   ]
  },
  {
   "cell_type": "markdown",
   "metadata": {},
   "source": [
    "Сформулируем нулевую гипотезу H₀: cредний пользовательский рейтинг жанра Action равен cреднему пользовательскому рейтингу жанра Sports. Сформулируем альтернативную гипотезу H₁: cредний пользовательский рейтинг жанра Action не равен cреднему пользовательскому рейтингу жанра Sports."
   ]
  },
  {
   "cell_type": "code",
   "execution_count": 43,
   "metadata": {},
   "outputs": [],
   "source": [
    "df_action = df.query('genre == \"Action\"').reset_index(drop=True)\n",
    "df_spots = df.query('genre == \"Sports\"').reset_index(drop=True)"
   ]
  },
  {
   "cell_type": "markdown",
   "metadata": {},
   "source": [
    "Сравним дисперсии выборок для корректного определения атрибута `equal_val` в Т–тесте."
   ]
  },
  {
   "cell_type": "code",
   "execution_count": 44,
   "metadata": {},
   "outputs": [
    {
     "name": "stdout",
     "output_type": "stream",
     "text": [
      "Дисперсия выборки для жанра Action: 2.027493768262496\n"
     ]
    }
   ],
   "source": [
    "variance_action = np.var(df_action['user_score'], ddof=1)\n",
    "print('Дисперсия выборки для жанра Action:', variance_action)"
   ]
  },
  {
   "cell_type": "code",
   "execution_count": 45,
   "metadata": {},
   "outputs": [
    {
     "name": "stdout",
     "output_type": "stream",
     "text": [
      "Дисперсия выборки для жанра Action: 2.623055812519272\n"
     ]
    }
   ],
   "source": [
    "variance_spots = np.var(df_spots['user_score'], ddof=1)\n",
    "print('Дисперсия выборки для жанра Action:', variance_spots)"
   ]
  },
  {
   "cell_type": "markdown",
   "metadata": {},
   "source": [
    "Дисперсии различаются более чем на 5%, считаем отличие значимым и выбираем `equal_var = False`."
   ]
  },
  {
   "cell_type": "code",
   "execution_count": 46,
   "metadata": {},
   "outputs": [
    {
     "name": "stdout",
     "output_type": "stream",
     "text": [
      "7.058129175946549\n",
      "6.951433857539316\n"
     ]
    }
   ],
   "source": [
    "print(df_action['user_score'].mean())\n",
    "print(df_spots['user_score'].mean())"
   ]
  },
  {
   "cell_type": "code",
   "execution_count": 47,
   "metadata": {},
   "outputs": [
    {
     "name": "stdout",
     "output_type": "stream",
     "text": [
      "p-значение: 0.07370217419278534\n",
      "Не получилось отвергнуть нулевую гипотезу.\n"
     ]
    }
   ],
   "source": [
    "alpha = 0.05\n",
    "\n",
    "results = st.ttest_ind(\n",
    "    df_action['user_score'], \n",
    "    df_spots['user_score'], equal_var = False)\n",
    "\n",
    "print('p-значение:', results.pvalue)\n",
    "\n",
    "if results.pvalue < alpha:\n",
    "    print('Отвергаем нулевую гипотезу.')\n",
    "else:\n",
    "    print('Не получилось отвергнуть нулевую гипотезу.') "
   ]
  },
  {
   "cell_type": "markdown",
   "metadata": {},
   "source": [
    "### Вывод"
   ]
  },
  {
   "cell_type": "markdown",
   "metadata": {},
   "source": [
    "Данные противоречат гипотезе \"средний пользовательский рейтинг платформы Xbox One равен среднему пользовательскому рейтингу платформы РС\", мы отвергаем эту гипотезу. Данные не противоречат гипотезе \"cредний пользовательский рейтинг жанра Action равен cреднему пользовательскому рейтингу жанра Sports\", мы не отвергаем эту гипотезу. "
   ]
  },
  {
   "cell_type": "markdown",
   "metadata": {},
   "source": [
    "## Шаг 6. Общий вывод. <a id=\"step6\"></a> "
   ]
  },
  {
   "cell_type": "markdown",
   "metadata": {},
   "source": [
    "**Цель исследования** — выявить закономерности, определяющие успешность игры, для прогнозирования популярности новых игр и планирования рекламных кампаний со ставкой на потенциально \"звездные\" релизы.\n",
    "\n",
    "В ходе исследования был выявлен средний цикл жизни игровой платформы на рынке — 10 лет, при этому **пик популярности платформа достигает на 3-5 год существования**, а после появляются новые, более технологичные платформы или готовятся к релизу новые версии старых платформ. Это означает, что **для прогнозов необходимо учитывать \"жизненный цикл\"** платформы, отдавая приоритет более молодым версиям (3-5 лет на рынке) **и следить за анонсами выхода новых версий популярных на текущий момент платформ** (так как есть тенденция \"преемственности\" — с выходом новой версии платформы, старая начинает терять популярность, а новая быстрее завоевывает аудиторию).\n",
    "\n",
    "Для построения прогнозов подходят данные за последние 2-3 года: для нашего исследования был взят период с 2013 по 2016 года.\n",
    "\n",
    "В ходе исследования мы выявили **закономерности, от которых не зависит успех** (объем продаж) игр:\n",
    "- оценки пользователей (корреляция 0,03 между оценками пользователей и продажами на платформе PS4 и корреляция 0,07 между теми же показателями на платформе XOne говорит о том, что эти показатели связаны слабо, либо не связаны между собой и хорошие/плохие оценки пользователей не могут повлиять на продажи игр);\n",
    "- оценки критиков (корреляция в 0,41 между оценками критиков и продажами на платформе PS4 и корреляция в 0,42 между теми же показателями на платформе XOne говорит о наличии связи, однако не слишком сильной и не влияющей на объем продаж). \n",
    "\n",
    "**Закономерности, от которых завист успех** (объем продаж) игр:\n",
    "- жанр игры (в ходе исследования мы определили, что игры с жанрами Action, Shooter, Sports, Role-Playing лидируют по продажам, а игры с жанрами Puzzle, Strategy, Simulation, Adventure находятся на дне продаж);\n",
    "- регион продаж (продажи зависят от предпочтений пользователей в регионах);\n",
    "- рейтинг ESRB.\n",
    "\n",
    "При подготовке рекламной кампании нужно учитывать, что перспективные платформы на 2017 год -  PS4, XOne. Также нужно принять во внимание различия в предпочтениях пользователей по регионам. В Северной Америки и Европе популярны игры с жанрами Action, Shooter, Sports, Role-Playing, Racing, Misc, пользователи из Японии предпочитают игры с жанрами Role-Playing, Action, Misc, Fighting, Shooter. В Японии уверенно лидируют игры с рейтингом Т и практически не продаются игры с рейтингом Е10+, в Северной Америке и Европе лидер - игры с рейтингом М, при этом игр с рейтингом Т продается меньше всего."
   ]
  },
  {
   "cell_type": "code",
   "execution_count": null,
   "metadata": {},
   "outputs": [],
   "source": []
  }
 ],
 "metadata": {
  "ExecuteTimeLog": [
   {
    "duration": 1610,
    "start_time": "2021-10-31T13:14:36.593Z"
   },
   {
    "duration": 49,
    "start_time": "2021-10-31T13:14:38.206Z"
   },
   {
    "duration": 24,
    "start_time": "2021-10-31T13:14:38.258Z"
   },
   {
    "duration": 28,
    "start_time": "2021-10-31T13:14:38.284Z"
   },
   {
    "duration": 4,
    "start_time": "2021-10-31T13:14:38.315Z"
   },
   {
    "duration": 19,
    "start_time": "2021-10-31T13:14:38.321Z"
   },
   {
    "duration": 11,
    "start_time": "2021-10-31T13:14:38.343Z"
   },
   {
    "duration": 44,
    "start_time": "2021-10-31T13:14:38.360Z"
   },
   {
    "duration": 7,
    "start_time": "2021-10-31T13:14:38.409Z"
   },
   {
    "duration": 12,
    "start_time": "2021-10-31T13:14:38.418Z"
   },
   {
    "duration": 11,
    "start_time": "2021-10-31T13:14:38.432Z"
   },
   {
    "duration": 56,
    "start_time": "2021-10-31T13:14:38.446Z"
   },
   {
    "duration": 362,
    "start_time": "2021-10-31T13:14:38.505Z"
   },
   {
    "duration": 11,
    "start_time": "2021-10-31T13:14:38.869Z"
   },
   {
    "duration": 31,
    "start_time": "2021-10-31T13:14:38.882Z"
   },
   {
    "duration": 4,
    "start_time": "2021-10-31T13:14:38.916Z"
   },
   {
    "duration": 12,
    "start_time": "2021-10-31T13:14:38.923Z"
   },
   {
    "duration": 63,
    "start_time": "2021-10-31T13:14:38.938Z"
   },
   {
    "duration": 633,
    "start_time": "2021-10-31T13:14:39.004Z"
   },
   {
    "duration": 41,
    "start_time": "2021-10-31T13:14:39.639Z"
   },
   {
    "duration": 8,
    "start_time": "2021-10-31T13:14:39.699Z"
   },
   {
    "duration": 419,
    "start_time": "2021-10-31T13:14:39.710Z"
   },
   {
    "duration": 819,
    "start_time": "2021-10-31T13:14:40.135Z"
   },
   {
    "duration": 8,
    "start_time": "2021-10-31T13:14:40.958Z"
   },
   {
    "duration": 798,
    "start_time": "2021-10-31T13:14:40.969Z"
   },
   {
    "duration": 5,
    "start_time": "2021-10-31T13:14:41.770Z"
   },
   {
    "duration": 611,
    "start_time": "2021-10-31T13:14:41.778Z"
   },
   {
    "duration": 25,
    "start_time": "2021-10-31T13:14:42.392Z"
   },
   {
    "duration": 21,
    "start_time": "2021-10-31T13:14:42.419Z"
   },
   {
    "duration": 21,
    "start_time": "2021-10-31T13:14:42.443Z"
   },
   {
    "duration": 22,
    "start_time": "2021-10-31T13:14:42.499Z"
   },
   {
    "duration": 19,
    "start_time": "2021-10-31T13:14:42.524Z"
   },
   {
    "duration": 19,
    "start_time": "2021-10-31T13:14:42.546Z"
   },
   {
    "duration": 380,
    "start_time": "2021-10-31T13:14:42.601Z"
   },
   {
    "duration": 376,
    "start_time": "2021-10-31T13:14:42.983Z"
   },
   {
    "duration": 420,
    "start_time": "2021-10-31T13:14:43.361Z"
   },
   {
    "duration": 19,
    "start_time": "2021-10-31T13:14:43.784Z"
   },
   {
    "duration": 11,
    "start_time": "2021-10-31T13:14:43.805Z"
   },
   {
    "duration": 7,
    "start_time": "2021-10-31T13:14:43.819Z"
   },
   {
    "duration": 11,
    "start_time": "2021-10-31T13:14:43.829Z"
   },
   {
    "duration": 7,
    "start_time": "2021-10-31T13:14:43.842Z"
   },
   {
    "duration": 12,
    "start_time": "2021-10-31T13:14:43.851Z"
   },
   {
    "duration": 13,
    "start_time": "2021-10-31T13:14:43.901Z"
   },
   {
    "duration": 8,
    "start_time": "2021-10-31T13:14:43.916Z"
   },
   {
    "duration": 8,
    "start_time": "2021-10-31T13:14:43.926Z"
   },
   {
    "duration": 8,
    "start_time": "2021-10-31T13:14:43.936Z"
   },
   {
    "duration": 10,
    "start_time": "2021-10-31T13:14:43.947Z"
   }
  ],
  "kernelspec": {
   "display_name": "Python 3",
   "language": "python",
   "name": "python3"
  },
  "language_info": {
   "codemirror_mode": {
    "name": "ipython",
    "version": 3
   },
   "file_extension": ".py",
   "mimetype": "text/x-python",
   "name": "python",
   "nbconvert_exporter": "python",
   "pygments_lexer": "ipython3",
   "version": "3.7.8"
  },
  "toc": {
   "base_numbering": 1,
   "nav_menu": {},
   "number_sections": true,
   "sideBar": true,
   "skip_h1_title": true,
   "title_cell": "Table of Contents",
   "title_sidebar": "Contents",
   "toc_cell": false,
   "toc_position": {},
   "toc_section_display": true,
   "toc_window_display": false
  }
 },
 "nbformat": 4,
 "nbformat_minor": 2
}
