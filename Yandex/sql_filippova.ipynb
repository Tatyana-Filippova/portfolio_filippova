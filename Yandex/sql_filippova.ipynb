{
 "cells": [
  {
   "cell_type": "markdown",
   "metadata": {},
   "source": [
    "## Исходные данные.   "
   ]
  },
  {
   "cell_type": "markdown",
   "metadata": {},
   "source": [
    "Задание выполняется без датасетов, мы имитируем подключение к базе данных.\n",
    "Подключение к БД и выгрузка данных выполняется с помощью Python (библиотек pandas и sqlalchemy), а также с помощью запроса SQL. Анализ данных выполнен с помощью запросов SQL."
   ]
  },
  {
   "cell_type": "code",
   "execution_count": null,
   "metadata": {},
   "outputs": [],
   "source": [
    "# импортируем библиотеки\n",
    "import pandas as pd\n",
    "from sqlalchemy import create_engine"
   ]
  },
  {
   "cell_type": "code",
   "execution_count": null,
   "metadata": {},
   "outputs": [],
   "source": [
    "# устанавливаем параметры подключения\n",
    "# имя пользователя\n",
    "# пароль\n",
    "# порт подключения\n",
    "# название базы данных\n",
    "# сохраняем коннектор"
   ]
  },
  {
   "cell_type": "markdown",
   "metadata": {},
   "source": [
    "## Задание 1."
   ]
  },
  {
   "cell_type": "markdown",
   "metadata": {},
   "source": [
    "**Исходные данные:**"
   ]
  },
  {
   "cell_type": "markdown",
   "metadata": {},
   "source": [
    "* Таблица `orders` (`order_id`, `promocode_id`) - уникальные заказы;\n",
    "* Таблица `promocodes` (`promocode_id`, `name`, `discount`) - уникальные промокоды."
   ]
  },
  {
   "cell_type": "markdown",
   "metadata": {},
   "source": [
    "**Запросы:**\n",
    "1. Вывести долю заказов с промокодами.\n",
    "2. Вывести самый популярный промокод (название) и число его использований."
   ]
  },
  {
   "cell_type": "code",
   "execution_count": null,
   "metadata": {},
   "outputs": [],
   "source": [
    "query = '''\n",
    "    SELECT\n",
    "        COUNT(DISTINCT order_id) / COUNT(*) * 100  AS part_of_promo\n",
    "    FROM\n",
    "        orders\n",
    "    WHERE\n",
    "        promocode_id IS NOT NULL;\n",
    "'''\n",
    "pd.io.sql.read_sql(query, con = engine)"
   ]
  },
  {
   "cell_type": "code",
   "execution_count": null,
   "metadata": {},
   "outputs": [],
   "source": [
    "query = '''\n",
    "    SELECT\n",
    "        promocodes.name AS name,\n",
    "        COUNT(DISTINCT orders.order_id) AS cnt\n",
    "    FROM\n",
    "        orders\n",
    "        LEFT JOIN promocodes ON promocodes.promocode_id = orders.promocode_id\n",
    "    GROUP BY\n",
    "        promocodes.name\n",
    "    ORDER BY\n",
    "        COUNT(DISTINCT orders.order_id) DESC\n",
    "    LIMIT 1;    \n",
    "'''\n",
    "pd.io.sql.read_sql(query, con = engine)"
   ]
  },
  {
   "cell_type": "markdown",
   "metadata": {},
   "source": [
    "## Задание 2."
   ]
  },
  {
   "cell_type": "markdown",
   "metadata": {},
   "source": [
    "**Исходные данные:**"
   ]
  },
  {
   "cell_type": "markdown",
   "metadata": {},
   "source": [
    "* Таблица `consumption` (`coffee_point_id` INT, `cookies` INT);\n",
    "* Таблица `buildings` (`coffee_point_id` INT, `coffee_point_name` VARCHAR(32), `office_id` INT, `office_name` VARCHAR(32))."
   ]
  },
  {
   "cell_type": "markdown",
   "metadata": {},
   "source": [
    "**Запросы:**\n",
    "1. Вывести топ-10 офисов по потреблению печенек среди офисов, которые потребляют менее 1000 печенек."
   ]
  },
  {
   "cell_type": "code",
   "execution_count": null,
   "metadata": {},
   "outputs": [],
   "source": [
    "query = '''\n",
    "    SELECT\n",
    "        buildings.office_name AS office_name,\n",
    "        SUM(consumption.cookies) AS sum_cookies\n",
    "    FROM\n",
    "        buildings\n",
    "        INNER JOIN consumption ON consumption.coffee_point_id = buildings.coffee_point_id\n",
    "    GROUP BY\n",
    "        buildings.office_name\n",
    "    HAVING\n",
    "        SUM(consumption.cookies) < 1000\n",
    "    ORDER BY\n",
    "        SUM(consumption.cookies) DESC\n",
    "    LIMIT 10;    \n",
    "'''\n",
    "pd.io.sql.read_sql(query, con = engine)"
   ]
  }
 ],
 "metadata": {
  "kernelspec": {
   "display_name": "Python 3",
   "language": "python",
   "name": "python3"
  },
  "language_info": {
   "codemirror_mode": {
    "name": "ipython",
    "version": 3
   },
   "file_extension": ".py",
   "mimetype": "text/x-python",
   "name": "python",
   "nbconvert_exporter": "python",
   "pygments_lexer": "ipython3",
   "version": "3.8.3"
  }
 },
 "nbformat": 4,
 "nbformat_minor": 4
}
