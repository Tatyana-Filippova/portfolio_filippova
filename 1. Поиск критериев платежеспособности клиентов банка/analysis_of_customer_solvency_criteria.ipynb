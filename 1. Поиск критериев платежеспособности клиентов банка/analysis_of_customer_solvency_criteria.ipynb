{
 "cells": [
  {
   "cell_type": "markdown",
   "metadata": {},
   "source": [
    "# Поиск критериев платежеспособности клиентов банка\n",
    "\n",
    "Заказчик — кредитный отдел банка. Входные данные от банка — статистика о платёжеспособности клиентов и обезличенные данные по таким параметрам, как количество детей, рабочий стаж, возраст, образование, семейное положение, пол, должность, доход и цель кредитования, а также отметка о возврате кредита в срок. \n",
    "\n",
    "Результаты исследования будут учтены при построении модели **кредитного скоринга** — специальной системы, которая оценивает способность потенциального заёмщика вернуть кредит банку."
   ]
  },
  {
   "cell_type": "markdown",
   "metadata": {},
   "source": [
    "1. [Получение данных](#step1)  \n",
    "2. [Предобработка данных](#step2)\n",
    "3. [Категоризация кредитных целей и клиентов](#step3)\n",
    "4. [Критерии оценки платежеспособности клиентов банка](#step4)\n",
    "5. [Результаты исследования](#step5)"
   ]
  },
  {
   "cell_type": "markdown",
   "metadata": {},
   "source": [
    "##  Получение данных <a id=\"step1\"></a>   "
   ]
  },
  {
   "cell_type": "markdown",
   "metadata": {},
   "source": [
    "Изучим данные, предоставленные кредитным отделом банка."
   ]
  },
  {
   "cell_type": "markdown",
   "metadata": {},
   "source": [
    "### Импорт библиотек"
   ]
  },
  {
   "cell_type": "code",
   "execution_count": 1,
   "metadata": {},
   "outputs": [
    {
     "name": "stdout",
     "output_type": "stream",
     "text": [
      "Defaulting to user installation because normal site-packages is not writeable\n",
      "Requirement already up-to-date: pandas in /home/jovyan/.local/lib/python3.7/site-packages (1.3.4)\n",
      "Requirement already satisfied, skipping upgrade: python-dateutil>=2.7.3 in /opt/conda/lib/python3.7/site-packages (from pandas) (2.8.1)\n",
      "Requirement already satisfied, skipping upgrade: numpy>=1.17.3; platform_machine != \"aarch64\" and platform_machine != \"arm64\" and python_version < \"3.10\" in /opt/conda/lib/python3.7/site-packages (from pandas) (1.19.5)\n",
      "Requirement already satisfied, skipping upgrade: pytz>=2017.3 in /opt/conda/lib/python3.7/site-packages (from pandas) (2021.1)\n",
      "Requirement already satisfied, skipping upgrade: six>=1.5 in /opt/conda/lib/python3.7/site-packages (from python-dateutil>=2.7.3->pandas) (1.15.0)\n",
      "Defaulting to user installation because normal site-packages is not writeable\n",
      "Requirement already up-to-date: pymystem3 in /opt/conda/lib/python3.7/site-packages (0.2.0)\n",
      "Requirement already satisfied, skipping upgrade: requests in /opt/conda/lib/python3.7/site-packages (from pymystem3) (2.22.0)\n",
      "Requirement already satisfied, skipping upgrade: certifi>=2017.4.17 in /opt/conda/lib/python3.7/site-packages (from requests->pymystem3) (2021.5.30)\n",
      "Requirement already satisfied, skipping upgrade: urllib3!=1.25.0,!=1.25.1,<1.26,>=1.21.1 in /opt/conda/lib/python3.7/site-packages (from requests->pymystem3) (1.25.11)\n",
      "Requirement already satisfied, skipping upgrade: idna<2.9,>=2.5 in /opt/conda/lib/python3.7/site-packages (from requests->pymystem3) (2.8)\n",
      "Requirement already satisfied, skipping upgrade: chardet<3.1.0,>=3.0.2 in /opt/conda/lib/python3.7/site-packages (from requests->pymystem3) (3.0.4)\n"
     ]
    }
   ],
   "source": [
    "! pip install pandas -U\n",
    "! pip install pymystem3 -U\n",
    "\n",
    "import pandas as pd\n",
    "from pymystem3 import Mystem\n",
    "m = Mystem() \n",
    "\n",
    "import warnings\n",
    "warnings.filterwarnings('ignore')"
   ]
  },
  {
   "cell_type": "markdown",
   "metadata": {},
   "source": [
    "Прочитаем файл *data.csv* и сохраним его в переменной *df*. "
   ]
  },
  {
   "cell_type": "code",
   "execution_count": 2,
   "metadata": {},
   "outputs": [],
   "source": [
    "df = pd.read_csv('/datasets/data.csv')"
   ]
  },
  {
   "cell_type": "markdown",
   "metadata": {},
   "source": [
    "Получим первые строки таблицы."
   ]
  },
  {
   "cell_type": "code",
   "execution_count": 3,
   "metadata": {
    "scrolled": true
   },
   "outputs": [
    {
     "data": {
      "text/html": [
       "<div>\n",
       "<style scoped>\n",
       "    .dataframe tbody tr th:only-of-type {\n",
       "        vertical-align: middle;\n",
       "    }\n",
       "\n",
       "    .dataframe tbody tr th {\n",
       "        vertical-align: top;\n",
       "    }\n",
       "\n",
       "    .dataframe thead th {\n",
       "        text-align: right;\n",
       "    }\n",
       "</style>\n",
       "<table border=\"1\" class=\"dataframe\">\n",
       "  <thead>\n",
       "    <tr style=\"text-align: right;\">\n",
       "      <th></th>\n",
       "      <th>children</th>\n",
       "      <th>days_employed</th>\n",
       "      <th>dob_years</th>\n",
       "      <th>education</th>\n",
       "      <th>education_id</th>\n",
       "      <th>family_status</th>\n",
       "      <th>family_status_id</th>\n",
       "      <th>gender</th>\n",
       "      <th>income_type</th>\n",
       "      <th>debt</th>\n",
       "      <th>total_income</th>\n",
       "      <th>purpose</th>\n",
       "    </tr>\n",
       "  </thead>\n",
       "  <tbody>\n",
       "    <tr>\n",
       "      <th>0</th>\n",
       "      <td>1</td>\n",
       "      <td>-8437.673028</td>\n",
       "      <td>42</td>\n",
       "      <td>высшее</td>\n",
       "      <td>0</td>\n",
       "      <td>женат / замужем</td>\n",
       "      <td>0</td>\n",
       "      <td>F</td>\n",
       "      <td>сотрудник</td>\n",
       "      <td>0</td>\n",
       "      <td>253875.639453</td>\n",
       "      <td>покупка жилья</td>\n",
       "    </tr>\n",
       "    <tr>\n",
       "      <th>1</th>\n",
       "      <td>1</td>\n",
       "      <td>-4024.803754</td>\n",
       "      <td>36</td>\n",
       "      <td>среднее</td>\n",
       "      <td>1</td>\n",
       "      <td>женат / замужем</td>\n",
       "      <td>0</td>\n",
       "      <td>F</td>\n",
       "      <td>сотрудник</td>\n",
       "      <td>0</td>\n",
       "      <td>112080.014102</td>\n",
       "      <td>приобретение автомобиля</td>\n",
       "    </tr>\n",
       "    <tr>\n",
       "      <th>2</th>\n",
       "      <td>0</td>\n",
       "      <td>-5623.422610</td>\n",
       "      <td>33</td>\n",
       "      <td>Среднее</td>\n",
       "      <td>1</td>\n",
       "      <td>женат / замужем</td>\n",
       "      <td>0</td>\n",
       "      <td>M</td>\n",
       "      <td>сотрудник</td>\n",
       "      <td>0</td>\n",
       "      <td>145885.952297</td>\n",
       "      <td>покупка жилья</td>\n",
       "    </tr>\n",
       "    <tr>\n",
       "      <th>3</th>\n",
       "      <td>3</td>\n",
       "      <td>-4124.747207</td>\n",
       "      <td>32</td>\n",
       "      <td>среднее</td>\n",
       "      <td>1</td>\n",
       "      <td>женат / замужем</td>\n",
       "      <td>0</td>\n",
       "      <td>M</td>\n",
       "      <td>сотрудник</td>\n",
       "      <td>0</td>\n",
       "      <td>267628.550329</td>\n",
       "      <td>дополнительное образование</td>\n",
       "    </tr>\n",
       "    <tr>\n",
       "      <th>4</th>\n",
       "      <td>0</td>\n",
       "      <td>340266.072047</td>\n",
       "      <td>53</td>\n",
       "      <td>среднее</td>\n",
       "      <td>1</td>\n",
       "      <td>гражданский брак</td>\n",
       "      <td>1</td>\n",
       "      <td>F</td>\n",
       "      <td>пенсионер</td>\n",
       "      <td>0</td>\n",
       "      <td>158616.077870</td>\n",
       "      <td>сыграть свадьбу</td>\n",
       "    </tr>\n",
       "  </tbody>\n",
       "</table>\n",
       "</div>"
      ],
      "text/plain": [
       "   children  days_employed  dob_years education  education_id  \\\n",
       "0         1   -8437.673028         42    высшее             0   \n",
       "1         1   -4024.803754         36   среднее             1   \n",
       "2         0   -5623.422610         33   Среднее             1   \n",
       "3         3   -4124.747207         32   среднее             1   \n",
       "4         0  340266.072047         53   среднее             1   \n",
       "\n",
       "      family_status  family_status_id gender income_type  debt   total_income  \\\n",
       "0   женат / замужем                 0      F   сотрудник     0  253875.639453   \n",
       "1   женат / замужем                 0      F   сотрудник     0  112080.014102   \n",
       "2   женат / замужем                 0      M   сотрудник     0  145885.952297   \n",
       "3   женат / замужем                 0      M   сотрудник     0  267628.550329   \n",
       "4  гражданский брак                 1      F   пенсионер     0  158616.077870   \n",
       "\n",
       "                      purpose  \n",
       "0               покупка жилья  \n",
       "1     приобретение автомобиля  \n",
       "2               покупка жилья  \n",
       "3  дополнительное образование  \n",
       "4             сыграть свадьбу  "
      ]
     },
     "execution_count": 3,
     "metadata": {},
     "output_type": "execute_result"
    }
   ],
   "source": [
    "df.head()"
   ]
  },
  {
   "cell_type": "markdown",
   "metadata": {},
   "source": [
    "Общая информация о данных таблицы *df*."
   ]
  },
  {
   "cell_type": "code",
   "execution_count": 4,
   "metadata": {},
   "outputs": [
    {
     "name": "stdout",
     "output_type": "stream",
     "text": [
      "<class 'pandas.core.frame.DataFrame'>\n",
      "RangeIndex: 21525 entries, 0 to 21524\n",
      "Data columns (total 12 columns):\n",
      " #   Column            Non-Null Count  Dtype  \n",
      "---  ------            --------------  -----  \n",
      " 0   children          21525 non-null  int64  \n",
      " 1   days_employed     19351 non-null  float64\n",
      " 2   dob_years         21525 non-null  int64  \n",
      " 3   education         21525 non-null  object \n",
      " 4   education_id      21525 non-null  int64  \n",
      " 5   family_status     21525 non-null  object \n",
      " 6   family_status_id  21525 non-null  int64  \n",
      " 7   gender            21525 non-null  object \n",
      " 8   income_type       21525 non-null  object \n",
      " 9   debt              21525 non-null  int64  \n",
      " 10  total_income      19351 non-null  float64\n",
      " 11  purpose           21525 non-null  object \n",
      "dtypes: float64(2), int64(5), object(5)\n",
      "memory usage: 2.0+ MB\n"
     ]
    }
   ],
   "source": [
    "df.info()"
   ]
  },
  {
   "cell_type": "markdown",
   "metadata": {},
   "source": [
    "Рассмотрим полученную информацию подробнее.\n",
    "\n",
    "Всего в таблице 12 столбцов, тип данных - **float64**, **int64**, **object**.\n",
    "\n",
    "Подробно разберём, какие в *df* столбцы и какую информацию они содержат:\n",
    "\n",
    "* children — количество детей в семье;\n",
    "* days_employed — общий трудовой стаж в днях;\n",
    "* dob_years — возраст клиента в годах;\n",
    "* education — уровень образования клиента;\n",
    "* education_id — идентификатор уровня образования;\n",
    "* family_status — семейное положение;\n",
    "* family_status_id — идентификатор семейного положения;\n",
    "* gender — пол клиента;\n",
    "* income_type — тип занятости;\n",
    "* debt — имел ли задолженность по возврату кредитов;\n",
    "* total_income — ежемесячный доход;\n",
    "* purpose — цель получения кредита.\n",
    "\n",
    "Количество значений в столбцах различается. Это говорит о том, что в данных есть пустые значения."
   ]
  },
  {
   "cell_type": "markdown",
   "metadata": {},
   "source": [
    "### Выводы"
   ]
  },
  {
   "cell_type": "markdown",
   "metadata": {},
   "source": [
    "Каждая строка таблицы содержит информацию об отдельном заемщике: количество детей в семье, общий трудовой стаж, возраст, образование, семейное положение, пол, тип занятости, задолжность по возврату кредитов, ежемесячный доход, цель получения кредита. Проблемы, которые нужно решать: пропуски, мусор в столбце *days_employed*, разный регистр. Для проверки рабочих гипотез особенно ценны столбцы *children*, *family_status*, *debt*, *total_income*, *purpose*."
   ]
  },
  {
   "cell_type": "markdown",
   "metadata": {},
   "source": [
    "## Предобработка данных <a id=\"step2\"></a>  "
   ]
  },
  {
   "cell_type": "markdown",
   "metadata": {},
   "source": [
    "Исключим пропуски, заменим вещественный тип данных на целочисленный, проверим данные на наличие дубликатов, артефактов."
   ]
  },
  {
   "cell_type": "markdown",
   "metadata": {},
   "source": [
    "### Обработка пропусков"
   ]
  },
  {
   "cell_type": "markdown",
   "metadata": {},
   "source": [
    "Проверим данные на наличие пропусков вызовом набора методов для суммирования пропущенных значений."
   ]
  },
  {
   "cell_type": "code",
   "execution_count": 5,
   "metadata": {},
   "outputs": [
    {
     "data": {
      "text/plain": [
       "children               0\n",
       "days_employed       2174\n",
       "dob_years              0\n",
       "education              0\n",
       "education_id           0\n",
       "family_status          0\n",
       "family_status_id       0\n",
       "gender                 0\n",
       "income_type            0\n",
       "debt                   0\n",
       "total_income        2174\n",
       "purpose                0\n",
       "dtype: int64"
      ]
     },
     "execution_count": 5,
     "metadata": {},
     "output_type": "execute_result"
    }
   ],
   "source": [
    "df.isnull().sum() "
   ]
  },
  {
   "cell_type": "markdown",
   "metadata": {},
   "source": [
    "Проверим, соответствуют ли пропуски в столбце *days_employed* пропускам в столбце *total_income*."
   ]
  },
  {
   "cell_type": "code",
   "execution_count": 6,
   "metadata": {},
   "outputs": [
    {
     "name": "stdout",
     "output_type": "stream",
     "text": [
      "Empty DataFrame\n",
      "Columns: [children, days_employed, dob_years, education, education_id, family_status, family_status_id, gender, income_type, debt, total_income, purpose]\n",
      "Index: []\n"
     ]
    }
   ],
   "source": [
    "print(df[(df['days_employed'] == 'NaN') & (df['total_income'] == 'NaN')])"
   ]
  },
  {
   "cell_type": "markdown",
   "metadata": {},
   "source": [
    "Датафрейм пуст: фильтр вернул те строки, в которых в обоих столбцах пропуски. Пустые значения свидетельствуют, что для некотрых заемщиков не доступна информация по общему трудовому стажу и ежемесячному доходу. Так же в столбце *days_employed* встречаются отрицательные значения общего трудового стажа, что невозможно. Причины пропусков и отрицательных значений могут быть разные: неверное заполнение таблиц, сбой в базе данных. Каждый отдельный случай необходимо разобрать и выявить причину. "
   ]
  },
  {
   "cell_type": "markdown",
   "metadata": {},
   "source": [
    "Значения в столбце *days_employed* не коррелириют с задачами исследования, так что заменим пропущенные значения в столбце на '0' и оставим отрицательные значения."
   ]
  },
  {
   "cell_type": "code",
   "execution_count": 7,
   "metadata": {},
   "outputs": [],
   "source": [
    "df['days_employed'] = df['days_employed'].fillna(0) "
   ]
  },
  {
   "cell_type": "markdown",
   "metadata": {},
   "source": [
    "Заполним пропуски в столбце *total_income* характерными значениями ежемесячного дохода, посчитанными в разных группах по типу занятости."
   ]
  },
  {
   "cell_type": "code",
   "execution_count": 8,
   "metadata": {},
   "outputs": [],
   "source": [
    "median_incomes = df.groupby('income_type')['total_income'].median().to_dict()\n",
    "def filler_func(row):\n",
    "    if pd.isna(row['total_income']):\n",
    "        return median_incomes[row['income_type']]\n",
    "    return row['total_income']\n",
    " \n",
    "df['total_income'] = df.apply(filler_func, axis=1)"
   ]
  },
  {
   "cell_type": "markdown",
   "metadata": {},
   "source": [
    "Убедимся, что таблица больше не содержит пропусков."
   ]
  },
  {
   "cell_type": "code",
   "execution_count": 9,
   "metadata": {},
   "outputs": [
    {
     "name": "stdout",
     "output_type": "stream",
     "text": [
      "children            0\n",
      "days_employed       0\n",
      "dob_years           0\n",
      "education           0\n",
      "education_id        0\n",
      "family_status       0\n",
      "family_status_id    0\n",
      "gender              0\n",
      "income_type         0\n",
      "debt                0\n",
      "total_income        0\n",
      "purpose             0\n",
      "dtype: int64\n"
     ]
    }
   ],
   "source": [
    "print(df.isnull().sum())"
   ]
  },
  {
   "cell_type": "markdown",
   "metadata": {},
   "source": [
    "### Замена типа данных"
   ]
  },
  {
   "cell_type": "markdown",
   "metadata": {},
   "source": [
    "Заменим вещественный тип данных на целочисленный методом .astype() c аргументом ('int'). Убедимся, что все заменили. "
   ]
  },
  {
   "cell_type": "code",
   "execution_count": 10,
   "metadata": {},
   "outputs": [
    {
     "name": "stdout",
     "output_type": "stream",
     "text": [
      "<class 'pandas.core.frame.DataFrame'>\n",
      "RangeIndex: 21525 entries, 0 to 21524\n",
      "Data columns (total 12 columns):\n",
      " #   Column            Non-Null Count  Dtype \n",
      "---  ------            --------------  ----- \n",
      " 0   children          21525 non-null  int64 \n",
      " 1   days_employed     21525 non-null  int64 \n",
      " 2   dob_years         21525 non-null  int64 \n",
      " 3   education         21525 non-null  object\n",
      " 4   education_id      21525 non-null  int64 \n",
      " 5   family_status     21525 non-null  object\n",
      " 6   family_status_id  21525 non-null  int64 \n",
      " 7   gender            21525 non-null  object\n",
      " 8   income_type       21525 non-null  object\n",
      " 9   debt              21525 non-null  int64 \n",
      " 10  total_income      21525 non-null  int64 \n",
      " 11  purpose           21525 non-null  object\n",
      "dtypes: int64(7), object(5)\n",
      "memory usage: 2.0+ MB\n"
     ]
    }
   ],
   "source": [
    "df['days_employed'] = df['days_employed'].astype('int')\n",
    "df['total_income'] = df['total_income'].astype('int')\n",
    "df.info()"
   ]
  },
  {
   "cell_type": "markdown",
   "metadata": {},
   "source": [
    "### Обработка дубликатов"
   ]
  },
  {
   "cell_type": "markdown",
   "metadata": {},
   "source": [
    "Вызовем метод .value_counts(), который анализирует столбец, выбирает каждое уникальное значение и подсчитывает частоту его встречаемости в списке. Применим метод к столбцу *children*. "
   ]
  },
  {
   "cell_type": "code",
   "execution_count": 11,
   "metadata": {},
   "outputs": [
    {
     "name": "stdout",
     "output_type": "stream",
     "text": [
      " 0     14149\n",
      " 1      4818\n",
      " 2      2055\n",
      " 3       330\n",
      " 20       76\n",
      "-1        47\n",
      " 4        41\n",
      " 5         9\n",
      "Name: children, dtype: int64\n"
     ]
    }
   ],
   "source": [
    "print(df['children'].value_counts())"
   ]
  },
  {
   "cell_type": "markdown",
   "metadata": {},
   "source": [
    "Дубликатов нет, но есть артефакты: количество детей -1 и 20. Удалим эти значения, так как их немного в общем объеме наблюдений. Проверим, удалились ли строки."
   ]
  },
  {
   "cell_type": "code",
   "execution_count": 12,
   "metadata": {},
   "outputs": [
    {
     "name": "stdout",
     "output_type": "stream",
     "text": [
      "0    14149\n",
      "1     4818\n",
      "2     2055\n",
      "3      330\n",
      "4       41\n",
      "5        9\n",
      "Name: children, dtype: int64\n"
     ]
    }
   ],
   "source": [
    "df = df[(df['children'] != -1) & (df['children'] != 20)].reset_index(drop=True)\n",
    "print(df['children'].value_counts())"
   ]
  },
  {
   "cell_type": "markdown",
   "metadata": {},
   "source": [
    "Применим метод .value_counts() к столбцу *dob_years*. "
   ]
  },
  {
   "cell_type": "code",
   "execution_count": 13,
   "metadata": {},
   "outputs": [
    {
     "data": {
      "text/plain": [
       "13017    1128836\n",
       "15127    1172459\n",
       "19700    1223042\n",
       "7411     1240165\n",
       "2213     1278622\n",
       "11013    1286280\n",
       "15184    1350245\n",
       "18250    1427934\n",
       "18265    1551152\n",
       "17403    1597613\n",
       "17080    1711309\n",
       "20692    1715018\n",
       "9121     1726276\n",
       "19494    2200852\n",
       "12342    2265604\n",
       "Name: total_income, dtype: int64"
      ]
     },
     "execution_count": 13,
     "metadata": {},
     "output_type": "execute_result"
    }
   ],
   "source": [
    "df['total_income'].sort_values(ascending=True).tail(15)"
   ]
  },
  {
   "cell_type": "markdown",
   "metadata": {},
   "source": [
    "Дубликатов нет, но есть артефакты: возраст клиента - 0 лет. Удалим эти значения, так как их немного в общем объеме наблюдений. Проверим, удалились ли строки."
   ]
  },
  {
   "cell_type": "code",
   "execution_count": 14,
   "metadata": {},
   "outputs": [
    {
     "name": "stdout",
     "output_type": "stream",
     "text": [
      "35    614\n",
      "41    603\n",
      "40    603\n",
      "34    597\n",
      "38    595\n",
      "42    592\n",
      "33    577\n",
      "39    572\n",
      "31    556\n",
      "36    553\n",
      "29    543\n",
      "44    543\n",
      "48    536\n",
      "30    536\n",
      "37    531\n",
      "43    510\n",
      "50    509\n",
      "32    506\n",
      "49    505\n",
      "28    501\n",
      "45    494\n",
      "27    490\n",
      "52    483\n",
      "56    482\n",
      "47    480\n",
      "54    476\n",
      "46    469\n",
      "58    461\n",
      "53    457\n",
      "57    457\n",
      "51    446\n",
      "59    441\n",
      "55    441\n",
      "26    406\n",
      "60    376\n",
      "25    356\n",
      "61    353\n",
      "62    351\n",
      "63    268\n",
      "64    263\n",
      "24    263\n",
      "23    252\n",
      "65    194\n",
      "66    183\n",
      "22    183\n",
      "67    167\n",
      "21    110\n",
      "68     99\n",
      "69     83\n",
      "70     65\n",
      "71     58\n",
      "20     51\n",
      "72     33\n",
      "19     14\n",
      "73      8\n",
      "74      6\n",
      "75      1\n",
      "Name: dob_years, dtype: int64\n"
     ]
    }
   ],
   "source": [
    "df = df[df['dob_years'] != 0].reset_index(drop=True)\n",
    "print(df['dob_years'].value_counts())"
   ]
  },
  {
   "cell_type": "markdown",
   "metadata": {},
   "source": [
    "Применим метод .value_counts() к столбцу *education*. "
   ]
  },
  {
   "cell_type": "code",
   "execution_count": 15,
   "metadata": {},
   "outputs": [
    {
     "name": "stdout",
     "output_type": "stream",
     "text": [
      "среднее                13609\n",
      "высшее                  4666\n",
      "СРЕДНЕЕ                  764\n",
      "Среднее                  700\n",
      "неоконченное высшее      663\n",
      "ВЫСШЕЕ                   270\n",
      "Высшее                   266\n",
      "начальное                250\n",
      "Неоконченное высшее       47\n",
      "НЕОКОНЧЕННОЕ ВЫСШЕЕ       29\n",
      "НАЧАЛЬНОЕ                 17\n",
      "Начальное                 15\n",
      "ученая степень             4\n",
      "Ученая степень             1\n",
      "УЧЕНАЯ СТЕПЕНЬ             1\n",
      "Name: education, dtype: int64\n"
     ]
    }
   ],
   "source": [
    "print(df['education'].value_counts())"
   ]
  },
  {
   "cell_type": "markdown",
   "metadata": {},
   "source": [
    "Значения уровня образования отличаются регистром. Чтобы учесть такие дубликаты, все символы в строке приведем к нижнему регистру вызовом метода .lower()."
   ]
  },
  {
   "cell_type": "code",
   "execution_count": 16,
   "metadata": {},
   "outputs": [
    {
     "name": "stdout",
     "output_type": "stream",
     "text": [
      "среднее                15073\n",
      "высшее                  5202\n",
      "неоконченное высшее      739\n",
      "начальное                282\n",
      "ученая степень             6\n",
      "Name: education, dtype: int64\n"
     ]
    }
   ],
   "source": [
    "df['education'] = df['education'].str.lower()\n",
    "print(df['education'].value_counts())"
   ]
  },
  {
   "cell_type": "markdown",
   "metadata": {},
   "source": [
    "Применим метод .value_counts() к столбцу *family_status*."
   ]
  },
  {
   "cell_type": "code",
   "execution_count": 17,
   "metadata": {},
   "outputs": [
    {
     "name": "stdout",
     "output_type": "stream",
     "text": [
      "женат / замужем          12254\n",
      "гражданский брак          4139\n",
      "Не женат / не замужем     2783\n",
      "в разводе                 1179\n",
      "вдовец / вдова             947\n",
      "Name: family_status, dtype: int64\n"
     ]
    }
   ],
   "source": [
    "print(df['family_status'].value_counts())"
   ]
  },
  {
   "cell_type": "markdown",
   "metadata": {},
   "source": [
    "Дубликатов нет. Значения семейного положения приведем к нижнему регистру вызовом метода .lower()."
   ]
  },
  {
   "cell_type": "code",
   "execution_count": 18,
   "metadata": {},
   "outputs": [
    {
     "name": "stdout",
     "output_type": "stream",
     "text": [
      "женат / замужем          12254\n",
      "гражданский брак          4139\n",
      "не женат / не замужем     2783\n",
      "в разводе                 1179\n",
      "вдовец / вдова             947\n",
      "Name: family_status, dtype: int64\n"
     ]
    }
   ],
   "source": [
    "df['family_status'] = df['family_status'].str.lower()\n",
    "print(df['family_status'].value_counts())"
   ]
  },
  {
   "cell_type": "markdown",
   "metadata": {},
   "source": [
    "Применим метод .value_counts() к столбцу *gender*."
   ]
  },
  {
   "cell_type": "code",
   "execution_count": 19,
   "metadata": {},
   "outputs": [
    {
     "name": "stdout",
     "output_type": "stream",
     "text": [
      "F      14083\n",
      "M       7218\n",
      "XNA        1\n",
      "Name: gender, dtype: int64\n"
     ]
    }
   ],
   "source": [
    "print(df['gender'].value_counts())"
   ]
  },
  {
   "cell_type": "markdown",
   "metadata": {},
   "source": [
    "Дубликатов нет, но есть артефакты: пол клиента - XNA. Удалим это единственное значение. Проверим, удалилась ли строка."
   ]
  },
  {
   "cell_type": "code",
   "execution_count": 20,
   "metadata": {},
   "outputs": [
    {
     "name": "stdout",
     "output_type": "stream",
     "text": [
      "F    14083\n",
      "M     7218\n",
      "Name: gender, dtype: int64\n"
     ]
    }
   ],
   "source": [
    "df = df[df['gender'] != 'XNA']\n",
    "print(df['gender'].value_counts())"
   ]
  },
  {
   "cell_type": "markdown",
   "metadata": {},
   "source": [
    "Проверим наличие дубликатов в таблице методом .duplicated(). В сочетании с методом sum() он возвращает количество дубликатов. Если найдутся, удалим, и проверим, все ли удалились."
   ]
  },
  {
   "cell_type": "code",
   "execution_count": 21,
   "metadata": {},
   "outputs": [
    {
     "name": "stdout",
     "output_type": "stream",
     "text": [
      "71\n"
     ]
    }
   ],
   "source": [
    "print(df.duplicated().sum()) "
   ]
  },
  {
   "cell_type": "code",
   "execution_count": 22,
   "metadata": {},
   "outputs": [
    {
     "name": "stdout",
     "output_type": "stream",
     "text": [
      "0\n"
     ]
    }
   ],
   "source": [
    "df = df.drop_duplicates().reset_index(drop=True)\n",
    "print(df.duplicated().sum()) "
   ]
  },
  {
   "cell_type": "markdown",
   "metadata": {},
   "source": [
    "Дубликатов нет. Данные пригодны для исследования."
   ]
  },
  {
   "cell_type": "markdown",
   "metadata": {},
   "source": [
    "### Выводы"
   ]
  },
  {
   "cell_type": "markdown",
   "metadata": {},
   "source": [
    "На этапе предобработки в данных обнаружились пропуски, дубликаты, артефакты. Их удаление позволит провести анализ точнее. Поскольку сведения о ежемесячном доходе важно сохранить для анализа, не просто удаляем все пропущенные значения, но заполняем пропущенные данные медиальным значением по типу занятости. Общий трудовой стаж не важен для исследования, оставляем этот столбец с мусором и заполняем пропущенные значения для удобства."
   ]
  },
  {
   "cell_type": "markdown",
   "metadata": {},
   "source": [
    "## Категоризация кредитных целей и клиентов <a id=\"step3\"></a>  "
   ]
  },
  {
   "cell_type": "markdown",
   "metadata": {},
   "source": [
    "### Лемматизация"
   ]
  },
  {
   "cell_type": "markdown",
   "metadata": {},
   "source": [
    "Проведем лемматизацию (приведение слова к его словарной форме (лемме)) значений столбца *purpose*. Итоговый результат склеим вызовом метода join() в строку."
   ]
  },
  {
   "cell_type": "code",
   "execution_count": 23,
   "metadata": {},
   "outputs": [],
   "source": [
    "def lemmatisizer(row):\n",
    "    return ' '.join(m.lemmatize(row['purpose']))\n",
    " \n",
    "df['lemmatisized'] = df.apply(lemmatisizer, axis = 1)"
   ]
  },
  {
   "cell_type": "markdown",
   "metadata": {},
   "source": [
    "### Категоризация"
   ]
  },
  {
   "cell_type": "markdown",
   "metadata": {},
   "source": [
    "Работать с единичными отрывками и делать из них статистические выводы нельзя. Значит, нужно сгруппировать данные, чтобы численности каждой группы хватало для формулировки выводов. Нужна категоризация — объединение данных в категории. "
   ]
  },
  {
   "cell_type": "markdown",
   "metadata": {},
   "source": [
    "Запишем правила классификации клиентов как функции."
   ]
  },
  {
   "cell_type": "markdown",
   "metadata": {},
   "source": [
    "Вызовем метод .value_counts(), который анализирует столбец, выбирает каждое уникальное значение и подсчитывает частоту его встречаемости в списке. Применим метод к столбцу *lemmatisized*. "
   ]
  },
  {
   "cell_type": "code",
   "execution_count": 24,
   "metadata": {},
   "outputs": [
    {
     "name": "stdout",
     "output_type": "stream",
     "text": [
      "автомобиль \\n                                    961\n",
      "свадьба \\n                                       785\n",
      "на   проведение   свадьба \\n                     759\n",
      "сыграть   свадьба \\n                             755\n",
      "операция   с   недвижимость \\n                   669\n",
      "покупка   коммерческий   недвижимость \\n         655\n",
      "покупка   жилье   для   сдача \\n                 647\n",
      "операция   с   коммерческий   недвижимость \\n    643\n",
      "операция   с   жилье \\n                          641\n",
      "покупка   жилье   для   семья \\n                 636\n",
      "жилье \\n                                         635\n",
      "покупка   жилье \\n                               634\n",
      "недвижимость \\n                                  627\n",
      "строительство   собственный   недвижимость \\n    626\n",
      "операция   со   свой   недвижимость \\n           623\n",
      "строительство   недвижимость \\n                  619\n",
      "покупка   свой   жилье \\n                        618\n",
      "строительство   жилой   недвижимость \\n          617\n",
      "покупка   недвижимость \\n                        612\n",
      "ремонт   жилье \\n                                602\n",
      "покупка   жилой   недвижимость \\n                599\n",
      "на   покупка   свой   автомобиль \\n              501\n",
      "заниматься   высокий   образование \\n            493\n",
      "сделка   с   подержанный   автомобиль \\n         479\n",
      "на   покупка   подержать   автомобиль \\n         471\n",
      "свой   автомобиль \\n                             470\n",
      "на   покупка   автомобиль \\n                     465\n",
      "приобретение   автомобиль \\n                     457\n",
      "сделка   с   автомобиль \\n                       454\n",
      "дополнительный   образование \\n                  453\n",
      "высокий   образование \\n                         443\n",
      "получение   дополнительный   образование \\n      442\n",
      "образование \\n                                   439\n",
      "получение   образование \\n                       439\n",
      "профильный   образование \\n                      431\n",
      "получение   высокий   образование \\n             423\n",
      "заниматься   образование \\n                      407\n",
      "Name: lemmatisized, dtype: int64\n"
     ]
    }
   ],
   "source": [
    "print(df['lemmatisized'].value_counts())"
   ]
  },
  {
   "cell_type": "markdown",
   "metadata": {},
   "source": [
    "Распределим клиентов по целям получения кредита:\n",
    "* Клиенты, берущие кредит на покупку автомобиля, попадают в категорию «автомобиль»;\n",
    "* Клиенты, берущие кредит на проведение свадьбы, - категория «свадьба»;\n",
    "* Клиенты, берущие кредит на покупку/ремонт недвижимости (жилья), попадают в категорию «недвижимость»;\n",
    "* Клиенты, берущие кредит на образование, - категория «образование»."
   ]
  },
  {
   "cell_type": "markdown",
   "metadata": {},
   "source": [
    "Опишем функцию:"
   ]
  },
  {
   "cell_type": "code",
   "execution_count": 25,
   "metadata": {},
   "outputs": [],
   "source": [
    "def purpose_group(row):\n",
    "    purpose = ' '.join(m.lemmatize(row['purpose'])) \n",
    "    if 'автом' in purpose:\n",
    "        return 'автомобиль'\n",
    "    if 'свадь' in purpose:\n",
    "        return  'свадьба'\n",
    "    if 'образов' in purpose:\n",
    "        return 'образование'\n",
    "    if 'недвиж' in purpose or 'жиль' in purpose:\n",
    "        return 'недвижимость'"
   ]
  },
  {
   "cell_type": "markdown",
   "metadata": {},
   "source": [
    "Создадим отдельный столбец с категориями по целям получения кредита, и в его ячейках запишем значения, возвращаемые функцией."
   ]
  },
  {
   "cell_type": "code",
   "execution_count": 26,
   "metadata": {},
   "outputs": [],
   "source": [
    "df['purpose_category']= df.apply(purpose_group, axis=1)        "
   ]
  },
  {
   "cell_type": "markdown",
   "metadata": {},
   "source": [
    "Распределим клиентов по количеству детей:\n",
    "* Клиенты без детей (в столбце *children* значение «0») попадают в категорию «без детей»;\n",
    "* Клиенты с детьми (в столбце *children* значения 1, 2, 3, 4, 5) — категория «есть дети»."
   ]
  },
  {
   "cell_type": "markdown",
   "metadata": {},
   "source": [
    "На вход функции попадает количество детей, а возвращает она категорию клиента. Опишем функцию:"
   ]
  },
  {
   "cell_type": "code",
   "execution_count": 27,
   "metadata": {},
   "outputs": [],
   "source": [
    "def сhildren_group(children):\n",
    "    if children == 0:\n",
    "        return 'без детей'\n",
    "    if children > 0:\n",
    "        return 'есть дети' "
   ]
  },
  {
   "cell_type": "markdown",
   "metadata": {},
   "source": [
    "Создадим отдельный столбец с категориями по детям, и в его ячейках запишем значения, возвращаемые функцией."
   ]
  },
  {
   "cell_type": "code",
   "execution_count": 28,
   "metadata": {
    "scrolled": true
   },
   "outputs": [],
   "source": [
    "df['сhildren_category'] = df['children'].apply(сhildren_group)"
   ]
  },
  {
   "cell_type": "markdown",
   "metadata": {},
   "source": [
    "Распределим клиентов по семейному положению: \n",
    "* Клиенты, живущие с партнером (в столбце *family_status* значения: женат / замужем; гражданский брак) - категория «в браке»;\n",
    "* Клиенты, живущие без партнера (в столбце *family_status* значения: не женат / не замужем; в разводе; вдовец / вдова) - категория «не в браке»."
   ]
  },
  {
   "cell_type": "markdown",
   "metadata": {},
   "source": [
    "На вход функции попадает семейное положение, а возвращает она категорию клиента. Опишем функцию:"
   ]
  },
  {
   "cell_type": "code",
   "execution_count": 29,
   "metadata": {},
   "outputs": [],
   "source": [
    "married = ['женат / замужем', 'гражданский брак']\n",
    "not_married = ['не женат / не замужем', 'в разводе', 'вдовец / вдова']\n",
    "\n",
    "def family_status_group(family_status):\n",
    "    if family_status in married:\n",
    "        return 'в браке'\n",
    "    if family_status in not_married:\n",
    "        return 'не в браке' "
   ]
  },
  {
   "cell_type": "markdown",
   "metadata": {},
   "source": [
    "Создадим отдельный столбец с категориями по семейному положению, и в его ячейках запишем значения, возвращаемые функцией."
   ]
  },
  {
   "cell_type": "code",
   "execution_count": 30,
   "metadata": {},
   "outputs": [],
   "source": [
    "df['family_status_category'] = df['family_status'].apply(family_status_group)"
   ]
  },
  {
   "cell_type": "markdown",
   "metadata": {},
   "source": [
    "Разобьем доход на промежутки с одинаковым количеством значений внутри каждого промежутка."
   ]
  },
  {
   "cell_type": "code",
   "execution_count": 31,
   "metadata": {},
   "outputs": [
    {
     "data": {
      "text/plain": [
       "(20666.999, 98526.8]     4246\n",
       "(98526.8, 132137.2]      4246\n",
       "(132137.2, 161370.6]     4246\n",
       "(161370.6, 214549.8]     4246\n",
       "(214549.8, 2265604.0]    4246\n",
       "Name: total_income, dtype: int64"
      ]
     },
     "execution_count": 31,
     "metadata": {},
     "output_type": "execute_result"
    }
   ],
   "source": [
    "pd.qcut(df['total_income'],5).value_counts()"
   ]
  },
  {
   "cell_type": "markdown",
   "metadata": {},
   "source": [
    "Распределим клиентов по ежемесячному доходу: \n",
    "* Клиенты с доходом ниже 98 526.8 - категория «низкий»;\n",
    "* Клиенты с доходом от 98 526.9 до 132 137.2 - категория «ниже среднего»;\n",
    "* Клиенты с доходом от 132 137.3 до 161 370.6 - категория «средний»;\n",
    "* Клиенты с доходом от 161 370.7 до 214 549.8 - категория «выше среднего»;\n",
    "* Клиенты с доходом от 214 549.9 до 2 265 604.0 - категория «высокий»."
   ]
  },
  {
   "cell_type": "markdown",
   "metadata": {},
   "source": [
    "На вход функции попадает ежемесячный доход, а возвращает она категорию клиента. Опишем функцию:"
   ]
  },
  {
   "cell_type": "code",
   "execution_count": 32,
   "metadata": {},
   "outputs": [],
   "source": [
    "def income_group(income):\n",
    "    if income <= 98526.8:\n",
    "        return 'низкий'\n",
    "    if income > 98526.8 and income <= 132137.2:\n",
    "        return 'ниже среднего' \n",
    "    if income > 132137.2 and income <= 161370.6:\n",
    "        return 'средний'\n",
    "    if income > 161370.6 and income <= 214549.8:\n",
    "        return 'выше среднего'\n",
    "    return 'высокий'"
   ]
  },
  {
   "cell_type": "markdown",
   "metadata": {},
   "source": [
    "Создадим отдельный столбец с категориями по ежемесячному доходу, и в его ячейках запишем значения, возвращаемые функцией."
   ]
  },
  {
   "cell_type": "code",
   "execution_count": 33,
   "metadata": {},
   "outputs": [],
   "source": [
    "df['total_income_category'] = df['total_income'].apply(income_group)"
   ]
  },
  {
   "cell_type": "markdown",
   "metadata": {},
   "source": [
    "Распределим клиентов по задолжности: \n",
    "* Клиенты со значением в столбце *debt* «0» попадают в категорию «не должник»;\n",
    "* Клиенты со значением в столбце *debt* «1» попадают в категорию «должник»."
   ]
  },
  {
   "cell_type": "markdown",
   "metadata": {},
   "source": [
    "На вход функции попадает идентификатор задолжности по кредиту, а возвращает она категорию клиента. Опишем функцию:"
   ]
  },
  {
   "cell_type": "code",
   "execution_count": 34,
   "metadata": {},
   "outputs": [],
   "source": [
    "def debt_group(debt):\n",
    "    if debt == 0:\n",
    "        return 'не должник'\n",
    "    return 'должник' "
   ]
  },
  {
   "cell_type": "markdown",
   "metadata": {},
   "source": [
    "Создадим отдельный столбец с категориями по задолжности, и в его ячейках запишем значения, возвращаемые функцией."
   ]
  },
  {
   "cell_type": "code",
   "execution_count": 35,
   "metadata": {},
   "outputs": [],
   "source": [
    "df['debt_category'] = df['debt'].apply(debt_group)"
   ]
  },
  {
   "cell_type": "markdown",
   "metadata": {},
   "source": [
    "Выведем первые 5 строк таблицы."
   ]
  },
  {
   "cell_type": "code",
   "execution_count": 36,
   "metadata": {},
   "outputs": [
    {
     "data": {
      "text/html": [
       "<div>\n",
       "<style scoped>\n",
       "    .dataframe tbody tr th:only-of-type {\n",
       "        vertical-align: middle;\n",
       "    }\n",
       "\n",
       "    .dataframe tbody tr th {\n",
       "        vertical-align: top;\n",
       "    }\n",
       "\n",
       "    .dataframe thead th {\n",
       "        text-align: right;\n",
       "    }\n",
       "</style>\n",
       "<table border=\"1\" class=\"dataframe\">\n",
       "  <thead>\n",
       "    <tr style=\"text-align: right;\">\n",
       "      <th></th>\n",
       "      <th>children</th>\n",
       "      <th>days_employed</th>\n",
       "      <th>dob_years</th>\n",
       "      <th>education</th>\n",
       "      <th>education_id</th>\n",
       "      <th>family_status</th>\n",
       "      <th>family_status_id</th>\n",
       "      <th>gender</th>\n",
       "      <th>income_type</th>\n",
       "      <th>debt</th>\n",
       "      <th>total_income</th>\n",
       "      <th>purpose</th>\n",
       "      <th>lemmatisized</th>\n",
       "      <th>purpose_category</th>\n",
       "      <th>сhildren_category</th>\n",
       "      <th>family_status_category</th>\n",
       "      <th>total_income_category</th>\n",
       "      <th>debt_category</th>\n",
       "    </tr>\n",
       "  </thead>\n",
       "  <tbody>\n",
       "    <tr>\n",
       "      <th>0</th>\n",
       "      <td>1</td>\n",
       "      <td>-8437</td>\n",
       "      <td>42</td>\n",
       "      <td>высшее</td>\n",
       "      <td>0</td>\n",
       "      <td>женат / замужем</td>\n",
       "      <td>0</td>\n",
       "      <td>F</td>\n",
       "      <td>сотрудник</td>\n",
       "      <td>0</td>\n",
       "      <td>253875</td>\n",
       "      <td>покупка жилья</td>\n",
       "      <td>покупка   жилье \\n</td>\n",
       "      <td>недвижимость</td>\n",
       "      <td>есть дети</td>\n",
       "      <td>в браке</td>\n",
       "      <td>высокий</td>\n",
       "      <td>не должник</td>\n",
       "    </tr>\n",
       "    <tr>\n",
       "      <th>1</th>\n",
       "      <td>1</td>\n",
       "      <td>-4024</td>\n",
       "      <td>36</td>\n",
       "      <td>среднее</td>\n",
       "      <td>1</td>\n",
       "      <td>женат / замужем</td>\n",
       "      <td>0</td>\n",
       "      <td>F</td>\n",
       "      <td>сотрудник</td>\n",
       "      <td>0</td>\n",
       "      <td>112080</td>\n",
       "      <td>приобретение автомобиля</td>\n",
       "      <td>приобретение   автомобиль \\n</td>\n",
       "      <td>автомобиль</td>\n",
       "      <td>есть дети</td>\n",
       "      <td>в браке</td>\n",
       "      <td>ниже среднего</td>\n",
       "      <td>не должник</td>\n",
       "    </tr>\n",
       "    <tr>\n",
       "      <th>2</th>\n",
       "      <td>0</td>\n",
       "      <td>-5623</td>\n",
       "      <td>33</td>\n",
       "      <td>среднее</td>\n",
       "      <td>1</td>\n",
       "      <td>женат / замужем</td>\n",
       "      <td>0</td>\n",
       "      <td>M</td>\n",
       "      <td>сотрудник</td>\n",
       "      <td>0</td>\n",
       "      <td>145885</td>\n",
       "      <td>покупка жилья</td>\n",
       "      <td>покупка   жилье \\n</td>\n",
       "      <td>недвижимость</td>\n",
       "      <td>без детей</td>\n",
       "      <td>в браке</td>\n",
       "      <td>средний</td>\n",
       "      <td>не должник</td>\n",
       "    </tr>\n",
       "    <tr>\n",
       "      <th>3</th>\n",
       "      <td>3</td>\n",
       "      <td>-4124</td>\n",
       "      <td>32</td>\n",
       "      <td>среднее</td>\n",
       "      <td>1</td>\n",
       "      <td>женат / замужем</td>\n",
       "      <td>0</td>\n",
       "      <td>M</td>\n",
       "      <td>сотрудник</td>\n",
       "      <td>0</td>\n",
       "      <td>267628</td>\n",
       "      <td>дополнительное образование</td>\n",
       "      <td>дополнительный   образование \\n</td>\n",
       "      <td>образование</td>\n",
       "      <td>есть дети</td>\n",
       "      <td>в браке</td>\n",
       "      <td>высокий</td>\n",
       "      <td>не должник</td>\n",
       "    </tr>\n",
       "    <tr>\n",
       "      <th>4</th>\n",
       "      <td>0</td>\n",
       "      <td>340266</td>\n",
       "      <td>53</td>\n",
       "      <td>среднее</td>\n",
       "      <td>1</td>\n",
       "      <td>гражданский брак</td>\n",
       "      <td>1</td>\n",
       "      <td>F</td>\n",
       "      <td>пенсионер</td>\n",
       "      <td>0</td>\n",
       "      <td>158616</td>\n",
       "      <td>сыграть свадьбу</td>\n",
       "      <td>сыграть   свадьба \\n</td>\n",
       "      <td>свадьба</td>\n",
       "      <td>без детей</td>\n",
       "      <td>в браке</td>\n",
       "      <td>средний</td>\n",
       "      <td>не должник</td>\n",
       "    </tr>\n",
       "  </tbody>\n",
       "</table>\n",
       "</div>"
      ],
      "text/plain": [
       "   children  days_employed  dob_years education  education_id  \\\n",
       "0         1          -8437         42    высшее             0   \n",
       "1         1          -4024         36   среднее             1   \n",
       "2         0          -5623         33   среднее             1   \n",
       "3         3          -4124         32   среднее             1   \n",
       "4         0         340266         53   среднее             1   \n",
       "\n",
       "      family_status  family_status_id gender income_type  debt  total_income  \\\n",
       "0   женат / замужем                 0      F   сотрудник     0        253875   \n",
       "1   женат / замужем                 0      F   сотрудник     0        112080   \n",
       "2   женат / замужем                 0      M   сотрудник     0        145885   \n",
       "3   женат / замужем                 0      M   сотрудник     0        267628   \n",
       "4  гражданский брак                 1      F   пенсионер     0        158616   \n",
       "\n",
       "                      purpose                     lemmatisized  \\\n",
       "0               покупка жилья               покупка   жилье \\n   \n",
       "1     приобретение автомобиля     приобретение   автомобиль \\n   \n",
       "2               покупка жилья               покупка   жилье \\n   \n",
       "3  дополнительное образование  дополнительный   образование \\n   \n",
       "4             сыграть свадьбу             сыграть   свадьба \\n   \n",
       "\n",
       "  purpose_category сhildren_category family_status_category  \\\n",
       "0     недвижимость         есть дети                в браке   \n",
       "1       автомобиль         есть дети                в браке   \n",
       "2     недвижимость         без детей                в браке   \n",
       "3      образование         есть дети                в браке   \n",
       "4          свадьба         без детей                в браке   \n",
       "\n",
       "  total_income_category debt_category  \n",
       "0               высокий    не должник  \n",
       "1         ниже среднего    не должник  \n",
       "2               средний    не должник  \n",
       "3               высокий    не должник  \n",
       "4               средний    не должник  "
      ]
     },
     "execution_count": 36,
     "metadata": {},
     "output_type": "execute_result"
    }
   ],
   "source": [
    "df.head()"
   ]
  },
  {
   "cell_type": "markdown",
   "metadata": {},
   "source": [
    "## Критерии оценки платежеспособности клиентов банка <a name=\"4\"></a>  "
   ]
  },
  {
   "cell_type": "markdown",
   "metadata": {},
   "source": [
    "### Гипотеза: разные цели кредита влияют на его возврат в срок"
   ]
  },
  {
   "cell_type": "markdown",
   "metadata": {},
   "source": [
    "Была выдвинута гипотеза, что разные цели кредита влияют на его возврат в срок. Проверяем это предположение по данным о четырех категориях целей кредита — автомобиль, недвижимость, образование, свадьба."
   ]
  },
  {
   "cell_type": "code",
   "execution_count": 37,
   "metadata": {},
   "outputs": [
    {
     "data": {
      "text/html": [
       "<div>\n",
       "<style scoped>\n",
       "    .dataframe tbody tr th:only-of-type {\n",
       "        vertical-align: middle;\n",
       "    }\n",
       "\n",
       "    .dataframe tbody tr th {\n",
       "        vertical-align: top;\n",
       "    }\n",
       "\n",
       "    .dataframe thead th {\n",
       "        text-align: right;\n",
       "    }\n",
       "</style>\n",
       "<table border=\"1\" class=\"dataframe\">\n",
       "  <thead>\n",
       "    <tr style=\"text-align: right;\">\n",
       "      <th>debt_category</th>\n",
       "      <th>должник</th>\n",
       "      <th>не должник</th>\n",
       "    </tr>\n",
       "    <tr>\n",
       "      <th>purpose_category</th>\n",
       "      <th></th>\n",
       "      <th></th>\n",
       "    </tr>\n",
       "  </thead>\n",
       "  <tbody>\n",
       "    <tr>\n",
       "      <th>автомобиль</th>\n",
       "      <td>397</td>\n",
       "      <td>3861</td>\n",
       "    </tr>\n",
       "    <tr>\n",
       "      <th>недвижимость</th>\n",
       "      <td>777</td>\n",
       "      <td>9926</td>\n",
       "    </tr>\n",
       "    <tr>\n",
       "      <th>образование</th>\n",
       "      <td>369</td>\n",
       "      <td>3601</td>\n",
       "    </tr>\n",
       "    <tr>\n",
       "      <th>свадьба</th>\n",
       "      <td>181</td>\n",
       "      <td>2118</td>\n",
       "    </tr>\n",
       "  </tbody>\n",
       "</table>\n",
       "</div>"
      ],
      "text/plain": [
       "debt_category     должник  не должник\n",
       "purpose_category                     \n",
       "автомобиль            397        3861\n",
       "недвижимость          777        9926\n",
       "образование           369        3601\n",
       "свадьба               181        2118"
      ]
     },
     "execution_count": 37,
     "metadata": {},
     "output_type": "execute_result"
    }
   ],
   "source": [
    "df_purpose_pivot = df.pivot_table(index=['purpose_category'], columns='debt_category', values ='debt', aggfunc='count')\n",
    "df_purpose_pivot.head()"
   ]
  },
  {
   "cell_type": "markdown",
   "metadata": {},
   "source": [
    "Посчитаем процент невозврата."
   ]
  },
  {
   "cell_type": "code",
   "execution_count": 38,
   "metadata": {},
   "outputs": [
    {
     "data": {
      "text/html": [
       "<div>\n",
       "<style scoped>\n",
       "    .dataframe tbody tr th:only-of-type {\n",
       "        vertical-align: middle;\n",
       "    }\n",
       "\n",
       "    .dataframe tbody tr th {\n",
       "        vertical-align: top;\n",
       "    }\n",
       "\n",
       "    .dataframe thead th {\n",
       "        text-align: right;\n",
       "    }\n",
       "</style>\n",
       "<table border=\"1\" class=\"dataframe\">\n",
       "  <thead>\n",
       "    <tr style=\"text-align: right;\">\n",
       "      <th>debt_category</th>\n",
       "      <th>должник</th>\n",
       "      <th>не должник</th>\n",
       "      <th>ratio</th>\n",
       "    </tr>\n",
       "    <tr>\n",
       "      <th>purpose_category</th>\n",
       "      <th></th>\n",
       "      <th></th>\n",
       "      <th></th>\n",
       "    </tr>\n",
       "  </thead>\n",
       "  <tbody>\n",
       "    <tr>\n",
       "      <th>автомобиль</th>\n",
       "      <td>397</td>\n",
       "      <td>3861</td>\n",
       "      <td>9.323626</td>\n",
       "    </tr>\n",
       "    <tr>\n",
       "      <th>образование</th>\n",
       "      <td>369</td>\n",
       "      <td>3601</td>\n",
       "      <td>9.294710</td>\n",
       "    </tr>\n",
       "    <tr>\n",
       "      <th>свадьба</th>\n",
       "      <td>181</td>\n",
       "      <td>2118</td>\n",
       "      <td>7.872988</td>\n",
       "    </tr>\n",
       "    <tr>\n",
       "      <th>недвижимость</th>\n",
       "      <td>777</td>\n",
       "      <td>9926</td>\n",
       "      <td>7.259647</td>\n",
       "    </tr>\n",
       "  </tbody>\n",
       "</table>\n",
       "</div>"
      ],
      "text/plain": [
       "debt_category     должник  не должник     ratio\n",
       "purpose_category                               \n",
       "автомобиль            397        3861  9.323626\n",
       "образование           369        3601  9.294710\n",
       "свадьба               181        2118  7.872988\n",
       "недвижимость          777        9926  7.259647"
      ]
     },
     "execution_count": 38,
     "metadata": {},
     "output_type": "execute_result"
    }
   ],
   "source": [
    "df_purpose_pivot['ratio'] = (df_purpose_pivot['должник'] / (df_purpose_pivot['должник'] + df_purpose_pivot['не должник']) * 100)\n",
    "df_purpose_pivot.sort_values(by='ratio', ascending=False).head()"
   ]
  },
  {
   "cell_type": "markdown",
   "metadata": {},
   "source": [
    "Выявлена зависимость наличия задолженности от цели кредитования:  \n",
    "— наиболее высокий риск для целей \"автомобиль\" и \"образование\" ~9,3%  \n",
    "— средний показатель у цели \"свадьба\" ~7,87%  \n",
    "— самый низкий показатель у цели \"недвижимость\" ~7,25% "
   ]
  },
  {
   "cell_type": "markdown",
   "metadata": {},
   "source": [
    "### Гипотеза: есть зависимость между наличием детей и возвратом кредита в срок"
   ]
  },
  {
   "cell_type": "markdown",
   "metadata": {},
   "source": [
    "Была выдвинута гипотеза, что надичие детей влияет на возврат кредиат в срок. Проверяем это предположение по данным о двух категориях клиентов — с детьми и без детей."
   ]
  },
  {
   "cell_type": "code",
   "execution_count": 39,
   "metadata": {},
   "outputs": [
    {
     "data": {
      "text/html": [
       "<div>\n",
       "<style scoped>\n",
       "    .dataframe tbody tr th:only-of-type {\n",
       "        vertical-align: middle;\n",
       "    }\n",
       "\n",
       "    .dataframe tbody tr th {\n",
       "        vertical-align: top;\n",
       "    }\n",
       "\n",
       "    .dataframe thead th {\n",
       "        text-align: right;\n",
       "    }\n",
       "</style>\n",
       "<table border=\"1\" class=\"dataframe\">\n",
       "  <thead>\n",
       "    <tr style=\"text-align: right;\">\n",
       "      <th>debt_category</th>\n",
       "      <th>должник</th>\n",
       "      <th>не должник</th>\n",
       "    </tr>\n",
       "    <tr>\n",
       "      <th>сhildren_category</th>\n",
       "      <th></th>\n",
       "      <th></th>\n",
       "    </tr>\n",
       "  </thead>\n",
       "  <tbody>\n",
       "    <tr>\n",
       "      <th>без детей</th>\n",
       "      <td>1058</td>\n",
       "      <td>12963</td>\n",
       "    </tr>\n",
       "    <tr>\n",
       "      <th>есть дети</th>\n",
       "      <td>666</td>\n",
       "      <td>6543</td>\n",
       "    </tr>\n",
       "  </tbody>\n",
       "</table>\n",
       "</div>"
      ],
      "text/plain": [
       "debt_category      должник  не должник\n",
       "сhildren_category                     \n",
       "без детей             1058       12963\n",
       "есть дети              666        6543"
      ]
     },
     "execution_count": 39,
     "metadata": {},
     "output_type": "execute_result"
    }
   ],
   "source": [
    "df_children_pivot = df.pivot_table(index=['сhildren_category'], columns='debt_category', values ='debt', aggfunc='count')\n",
    "df_children_pivot.head()"
   ]
  },
  {
   "cell_type": "markdown",
   "metadata": {},
   "source": [
    "Посчитаем процент невозврата."
   ]
  },
  {
   "cell_type": "code",
   "execution_count": 40,
   "metadata": {},
   "outputs": [
    {
     "data": {
      "text/html": [
       "<div>\n",
       "<style scoped>\n",
       "    .dataframe tbody tr th:only-of-type {\n",
       "        vertical-align: middle;\n",
       "    }\n",
       "\n",
       "    .dataframe tbody tr th {\n",
       "        vertical-align: top;\n",
       "    }\n",
       "\n",
       "    .dataframe thead th {\n",
       "        text-align: right;\n",
       "    }\n",
       "</style>\n",
       "<table border=\"1\" class=\"dataframe\">\n",
       "  <thead>\n",
       "    <tr style=\"text-align: right;\">\n",
       "      <th>debt_category</th>\n",
       "      <th>должник</th>\n",
       "      <th>не должник</th>\n",
       "      <th>ratio</th>\n",
       "    </tr>\n",
       "    <tr>\n",
       "      <th>сhildren_category</th>\n",
       "      <th></th>\n",
       "      <th></th>\n",
       "      <th></th>\n",
       "    </tr>\n",
       "  </thead>\n",
       "  <tbody>\n",
       "    <tr>\n",
       "      <th>есть дети</th>\n",
       "      <td>666</td>\n",
       "      <td>6543</td>\n",
       "      <td>9.238452</td>\n",
       "    </tr>\n",
       "    <tr>\n",
       "      <th>без детей</th>\n",
       "      <td>1058</td>\n",
       "      <td>12963</td>\n",
       "      <td>7.545824</td>\n",
       "    </tr>\n",
       "  </tbody>\n",
       "</table>\n",
       "</div>"
      ],
      "text/plain": [
       "debt_category      должник  не должник     ratio\n",
       "сhildren_category                               \n",
       "есть дети              666        6543  9.238452\n",
       "без детей             1058       12963  7.545824"
      ]
     },
     "execution_count": 40,
     "metadata": {},
     "output_type": "execute_result"
    }
   ],
   "source": [
    "df_children_pivot['ratio'] = (df_children_pivot['должник'] / (df_children_pivot['должник'] + df_children_pivot['не должник']) * 100)\n",
    "df_children_pivot.sort_values(by='ratio', ascending=False).head()"
   ]
  },
  {
   "cell_type": "markdown",
   "metadata": {},
   "source": [
    "Из всех клиентов с детьми задолженность имели: 9,23%  \n",
    "Из всех клиентов без детей задолженность имели: 7,54%  \n",
    "  \n",
    "Наличие детей может влиять на увеличение риска образования задоленности по кредиту."
   ]
  },
  {
   "cell_type": "markdown",
   "metadata": {},
   "source": [
    "### Гипотеза: есть зависимость между семейным положением и возвратом кредита в срок"
   ]
  },
  {
   "cell_type": "markdown",
   "metadata": {},
   "source": [
    "Была выдвинута гипотеза, что семейное положение влияет на возврат кредита в срок. Проверяем это предположение по данным о двух категориях клиентов — в браке, не в браке."
   ]
  },
  {
   "cell_type": "code",
   "execution_count": 41,
   "metadata": {},
   "outputs": [
    {
     "data": {
      "text/html": [
       "<div>\n",
       "<style scoped>\n",
       "    .dataframe tbody tr th:only-of-type {\n",
       "        vertical-align: middle;\n",
       "    }\n",
       "\n",
       "    .dataframe tbody tr th {\n",
       "        vertical-align: top;\n",
       "    }\n",
       "\n",
       "    .dataframe thead th {\n",
       "        text-align: right;\n",
       "    }\n",
       "</style>\n",
       "<table border=\"1\" class=\"dataframe\">\n",
       "  <thead>\n",
       "    <tr style=\"text-align: right;\">\n",
       "      <th>debt_category</th>\n",
       "      <th>должник</th>\n",
       "      <th>не должник</th>\n",
       "    </tr>\n",
       "    <tr>\n",
       "      <th>family_status_category</th>\n",
       "      <th></th>\n",
       "      <th></th>\n",
       "    </tr>\n",
       "  </thead>\n",
       "  <tbody>\n",
       "    <tr>\n",
       "      <th>в браке</th>\n",
       "      <td>1306</td>\n",
       "      <td>15019</td>\n",
       "    </tr>\n",
       "    <tr>\n",
       "      <th>не в браке</th>\n",
       "      <td>418</td>\n",
       "      <td>4487</td>\n",
       "    </tr>\n",
       "  </tbody>\n",
       "</table>\n",
       "</div>"
      ],
      "text/plain": [
       "debt_category           должник  не должник\n",
       "family_status_category                     \n",
       "в браке                    1306       15019\n",
       "не в браке                  418        4487"
      ]
     },
     "execution_count": 41,
     "metadata": {},
     "output_type": "execute_result"
    }
   ],
   "source": [
    "df_family_status_pivot = df.pivot_table(index=['family_status_category'], columns='debt_category', values ='debt', aggfunc='count')\n",
    "df_family_status_pivot.head()"
   ]
  },
  {
   "cell_type": "markdown",
   "metadata": {},
   "source": [
    "Посчитаем процент невозврата."
   ]
  },
  {
   "cell_type": "code",
   "execution_count": 42,
   "metadata": {},
   "outputs": [
    {
     "data": {
      "text/html": [
       "<div>\n",
       "<style scoped>\n",
       "    .dataframe tbody tr th:only-of-type {\n",
       "        vertical-align: middle;\n",
       "    }\n",
       "\n",
       "    .dataframe tbody tr th {\n",
       "        vertical-align: top;\n",
       "    }\n",
       "\n",
       "    .dataframe thead th {\n",
       "        text-align: right;\n",
       "    }\n",
       "</style>\n",
       "<table border=\"1\" class=\"dataframe\">\n",
       "  <thead>\n",
       "    <tr style=\"text-align: right;\">\n",
       "      <th>debt_category</th>\n",
       "      <th>должник</th>\n",
       "      <th>не должник</th>\n",
       "      <th>ratio</th>\n",
       "    </tr>\n",
       "    <tr>\n",
       "      <th>family_status_category</th>\n",
       "      <th></th>\n",
       "      <th></th>\n",
       "      <th></th>\n",
       "    </tr>\n",
       "  </thead>\n",
       "  <tbody>\n",
       "    <tr>\n",
       "      <th>не в браке</th>\n",
       "      <td>418</td>\n",
       "      <td>4487</td>\n",
       "      <td>8.521916</td>\n",
       "    </tr>\n",
       "    <tr>\n",
       "      <th>в браке</th>\n",
       "      <td>1306</td>\n",
       "      <td>15019</td>\n",
       "      <td>8.000000</td>\n",
       "    </tr>\n",
       "  </tbody>\n",
       "</table>\n",
       "</div>"
      ],
      "text/plain": [
       "debt_category           должник  не должник     ratio\n",
       "family_status_category                               \n",
       "не в браке                  418        4487  8.521916\n",
       "в браке                    1306       15019  8.000000"
      ]
     },
     "execution_count": 42,
     "metadata": {},
     "output_type": "execute_result"
    }
   ],
   "source": [
    "df_family_status_pivot['ratio'] = (df_family_status_pivot['должник'] / (df_family_status_pivot['должник'] + df_family_status_pivot['не должник']) * 100)\n",
    "df_family_status_pivot.sort_values(by='ratio', ascending=False).head()"
   ]
  },
  {
   "cell_type": "markdown",
   "metadata": {},
   "source": [
    "Процент задолженности среди клиентов, не состоящих в браке — 8,52% , выше, чем среди клиентов, состоящих в браке — 8,0%. Наличие официально оформленных семейных отношений может считаться положительным фактором для одобрения кредита."
   ]
  },
  {
   "cell_type": "markdown",
   "metadata": {},
   "source": [
    "### Гипотеза: есть зависимость между уровнем дохода и возвратом кредита в срок"
   ]
  },
  {
   "cell_type": "markdown",
   "metadata": {},
   "source": [
    "Была выдвинута гипотеза, что уровень дохода влияет на возврат кредита в срок. Проверяем это предположение по данным о пяти категориях клиентов — доход низкий, ниже среднего, средний, выше среднего, высокий."
   ]
  },
  {
   "cell_type": "code",
   "execution_count": 43,
   "metadata": {},
   "outputs": [
    {
     "data": {
      "text/html": [
       "<div>\n",
       "<style scoped>\n",
       "    .dataframe tbody tr th:only-of-type {\n",
       "        vertical-align: middle;\n",
       "    }\n",
       "\n",
       "    .dataframe tbody tr th {\n",
       "        vertical-align: top;\n",
       "    }\n",
       "\n",
       "    .dataframe thead th {\n",
       "        text-align: right;\n",
       "    }\n",
       "</style>\n",
       "<table border=\"1\" class=\"dataframe\">\n",
       "  <thead>\n",
       "    <tr style=\"text-align: right;\">\n",
       "      <th>debt_category</th>\n",
       "      <th>должник</th>\n",
       "      <th>не должник</th>\n",
       "    </tr>\n",
       "    <tr>\n",
       "      <th>total_income_category</th>\n",
       "      <th></th>\n",
       "      <th></th>\n",
       "    </tr>\n",
       "  </thead>\n",
       "  <tbody>\n",
       "    <tr>\n",
       "      <th>высокий</th>\n",
       "      <td>298</td>\n",
       "      <td>3948</td>\n",
       "    </tr>\n",
       "    <tr>\n",
       "      <th>выше среднего</th>\n",
       "      <td>356</td>\n",
       "      <td>3890</td>\n",
       "    </tr>\n",
       "    <tr>\n",
       "      <th>ниже среднего</th>\n",
       "      <td>356</td>\n",
       "      <td>3890</td>\n",
       "    </tr>\n",
       "    <tr>\n",
       "      <th>низкий</th>\n",
       "      <td>343</td>\n",
       "      <td>3903</td>\n",
       "    </tr>\n",
       "    <tr>\n",
       "      <th>средний</th>\n",
       "      <td>371</td>\n",
       "      <td>3875</td>\n",
       "    </tr>\n",
       "  </tbody>\n",
       "</table>\n",
       "</div>"
      ],
      "text/plain": [
       "debt_category          должник  не должник\n",
       "total_income_category                     \n",
       "высокий                    298        3948\n",
       "выше среднего              356        3890\n",
       "ниже среднего              356        3890\n",
       "низкий                     343        3903\n",
       "средний                    371        3875"
      ]
     },
     "execution_count": 43,
     "metadata": {},
     "output_type": "execute_result"
    }
   ],
   "source": [
    "df_total_income_category_pivot = df.pivot_table(index=['total_income_category'], columns='debt_category', values ='debt', aggfunc='count')\n",
    "df_total_income_category_pivot.head()"
   ]
  },
  {
   "cell_type": "markdown",
   "metadata": {},
   "source": [
    "Посчитаем процент невозврата."
   ]
  },
  {
   "cell_type": "code",
   "execution_count": 44,
   "metadata": {},
   "outputs": [
    {
     "data": {
      "text/html": [
       "<div>\n",
       "<style scoped>\n",
       "    .dataframe tbody tr th:only-of-type {\n",
       "        vertical-align: middle;\n",
       "    }\n",
       "\n",
       "    .dataframe tbody tr th {\n",
       "        vertical-align: top;\n",
       "    }\n",
       "\n",
       "    .dataframe thead th {\n",
       "        text-align: right;\n",
       "    }\n",
       "</style>\n",
       "<table border=\"1\" class=\"dataframe\">\n",
       "  <thead>\n",
       "    <tr style=\"text-align: right;\">\n",
       "      <th>debt_category</th>\n",
       "      <th>должник</th>\n",
       "      <th>не должник</th>\n",
       "      <th>ratio</th>\n",
       "    </tr>\n",
       "    <tr>\n",
       "      <th>total_income_category</th>\n",
       "      <th></th>\n",
       "      <th></th>\n",
       "      <th></th>\n",
       "    </tr>\n",
       "  </thead>\n",
       "  <tbody>\n",
       "    <tr>\n",
       "      <th>средний</th>\n",
       "      <td>371</td>\n",
       "      <td>3875</td>\n",
       "      <td>8.737635</td>\n",
       "    </tr>\n",
       "    <tr>\n",
       "      <th>выше среднего</th>\n",
       "      <td>356</td>\n",
       "      <td>3890</td>\n",
       "      <td>8.384362</td>\n",
       "    </tr>\n",
       "    <tr>\n",
       "      <th>ниже среднего</th>\n",
       "      <td>356</td>\n",
       "      <td>3890</td>\n",
       "      <td>8.384362</td>\n",
       "    </tr>\n",
       "    <tr>\n",
       "      <th>низкий</th>\n",
       "      <td>343</td>\n",
       "      <td>3903</td>\n",
       "      <td>8.078191</td>\n",
       "    </tr>\n",
       "    <tr>\n",
       "      <th>высокий</th>\n",
       "      <td>298</td>\n",
       "      <td>3948</td>\n",
       "      <td>7.018370</td>\n",
       "    </tr>\n",
       "  </tbody>\n",
       "</table>\n",
       "</div>"
      ],
      "text/plain": [
       "debt_category          должник  не должник     ratio\n",
       "total_income_category                               \n",
       "средний                    371        3875  8.737635\n",
       "выше среднего              356        3890  8.384362\n",
       "ниже среднего              356        3890  8.384362\n",
       "низкий                     343        3903  8.078191\n",
       "высокий                    298        3948  7.018370"
      ]
     },
     "execution_count": 44,
     "metadata": {},
     "output_type": "execute_result"
    }
   ],
   "source": [
    "df_total_income_category_pivot['ratio'] = (df_total_income_category_pivot['должник'] / (df_total_income_category_pivot['должник'] + df_total_income_category_pivot['не должник']) * 100)\n",
    "df_total_income_category_pivot.sort_values(by='ratio', ascending=False).head()"
   ]
  },
  {
   "cell_type": "markdown",
   "metadata": {},
   "source": [
    "Уровень дохода не имеет значительного влияния: вне зависимости от уровня дохода процент задолженности в категориях \"низкий\", \"ниже среднего\", \"средний\" и \"выше среднего\" колеблится от 8,07% до 8,73%, только в случае \"высокого\" дохода процент в районе 7,01%."
   ]
  },
  {
   "cell_type": "markdown",
   "metadata": {},
   "source": [
    "## Результаты исследования <a name=\"5\"></a>  "
   ]
  },
  {
   "cell_type": "markdown",
   "metadata": {},
   "source": [
    "**Рабочие гипотезы**: \n",
    "\n",
    "* между наличием детей и возвратом кредита в срок есть зависимость;\n",
    "\n",
    "* между семейным положением и возвратом кредита в срок есть зависимость;\n",
    "\n",
    "* между уровнем дохода и возвратом кредита в срок есть зависимость;\n",
    "\n",
    "* цели кредита влияют на его возврат в срок.\n",
    "\n",
    "**Общие результаты**\n",
    "\n",
    "Наличие детей в семье увеличивает вероятность образования задолженности.\n",
    "  \n",
    "Наличие статуса \"женат/замужем\" может положительно влиять на кредитную привлекательность клиента для банка, однако, не может иметь наибольший вес при оценке платежеспособности. Это фактор стоит учитывать в совокупности с наличием в семье детей, чтобы получить более точные оценки на этапе кредитного скоринга.\n",
    "  \n",
    "Задолженность не зависит от уровня дохода. В данном случае более показательными будут другие факторы: наличие детей, семейное положение и другие.  \n",
    "   \n",
    "Есть зависимость между целью кредита и риском образования задолженности — их необходимо учитывать при построении модели кредитного скоринга."
   ]
  }
 ],
 "metadata": {
  "ExecuteTimeLog": [
   {
    "duration": 8829,
    "start_time": "2021-10-25T12:43:54.384Z"
   },
   {
    "duration": 82,
    "start_time": "2021-10-25T12:44:03.216Z"
   },
   {
    "duration": 45,
    "start_time": "2021-10-25T12:44:03.302Z"
   },
   {
    "duration": 25,
    "start_time": "2021-10-25T12:44:03.350Z"
   },
   {
    "duration": 12,
    "start_time": "2021-10-25T12:44:03.378Z"
   },
   {
    "duration": 39,
    "start_time": "2021-10-25T12:44:03.393Z"
   },
   {
    "duration": 22,
    "start_time": "2021-10-25T12:44:03.435Z"
   },
   {
    "duration": 432,
    "start_time": "2021-10-25T12:44:03.461Z"
   },
   {
    "duration": 13,
    "start_time": "2021-10-25T12:44:03.897Z"
   },
   {
    "duration": 26,
    "start_time": "2021-10-25T12:44:03.924Z"
   },
   {
    "duration": 6,
    "start_time": "2021-10-25T12:44:03.952Z"
   },
   {
    "duration": 19,
    "start_time": "2021-10-25T12:44:03.960Z"
   },
   {
    "duration": 43,
    "start_time": "2021-10-25T12:44:03.982Z"
   },
   {
    "duration": 15,
    "start_time": "2021-10-25T12:44:04.028Z"
   },
   {
    "duration": 12,
    "start_time": "2021-10-25T12:44:04.046Z"
   },
   {
    "duration": 23,
    "start_time": "2021-10-25T12:44:04.060Z"
   },
   {
    "duration": 42,
    "start_time": "2021-10-25T12:44:04.085Z"
   },
   {
    "duration": 38,
    "start_time": "2021-10-25T12:44:04.130Z"
   },
   {
    "duration": 14,
    "start_time": "2021-10-25T12:44:04.170Z"
   },
   {
    "duration": 14,
    "start_time": "2021-10-25T12:44:04.187Z"
   },
   {
    "duration": 47,
    "start_time": "2021-10-25T12:44:04.203Z"
   },
   {
    "duration": 48,
    "start_time": "2021-10-25T12:44:04.252Z"
   },
   {
    "duration": 5848,
    "start_time": "2021-10-25T12:44:04.323Z"
   },
   {
    "duration": 11,
    "start_time": "2021-10-25T12:44:10.174Z"
   },
   {
    "duration": 6,
    "start_time": "2021-10-25T12:44:10.188Z"
   },
   {
    "duration": 5083,
    "start_time": "2021-10-25T12:44:10.196Z"
   },
   {
    "duration": 6,
    "start_time": "2021-10-25T12:44:15.281Z"
   },
   {
    "duration": 14,
    "start_time": "2021-10-25T12:44:15.290Z"
   },
   {
    "duration": 5,
    "start_time": "2021-10-25T12:44:15.323Z"
   },
   {
    "duration": 28,
    "start_time": "2021-10-25T12:44:15.331Z"
   },
   {
    "duration": 35,
    "start_time": "2021-10-25T12:44:15.361Z"
   },
   {
    "duration": 5,
    "start_time": "2021-10-25T12:44:15.398Z"
   },
   {
    "duration": 42,
    "start_time": "2021-10-25T12:44:15.405Z"
   },
   {
    "duration": 9,
    "start_time": "2021-10-25T12:44:15.450Z"
   },
   {
    "duration": 25,
    "start_time": "2021-10-25T12:44:15.461Z"
   },
   {
    "duration": 37,
    "start_time": "2021-10-25T12:44:15.489Z"
   },
   {
    "duration": 50,
    "start_time": "2021-10-25T12:44:15.529Z"
   },
   {
    "duration": 14,
    "start_time": "2021-10-25T12:44:15.582Z"
   },
   {
    "duration": 45,
    "start_time": "2021-10-25T12:44:15.600Z"
   },
   {
    "duration": 13,
    "start_time": "2021-10-25T12:44:15.648Z"
   },
   {
    "duration": 33,
    "start_time": "2021-10-25T12:44:15.663Z"
   },
   {
    "duration": 18,
    "start_time": "2021-10-25T12:44:15.722Z"
   },
   {
    "duration": 29,
    "start_time": "2021-10-25T12:44:15.743Z"
   },
   {
    "duration": 14,
    "start_time": "2021-10-25T12:44:15.774Z"
   },
   {
    "duration": 14,
    "start_time": "2021-10-25T12:45:18.907Z"
   },
   {
    "duration": 12,
    "start_time": "2021-10-25T12:46:09.538Z"
   },
   {
    "duration": 17,
    "start_time": "2021-10-25T12:52:30.720Z"
   },
   {
    "duration": 19,
    "start_time": "2021-10-25T12:54:00.006Z"
   },
   {
    "duration": 18,
    "start_time": "2021-10-25T12:54:47.851Z"
   },
   {
    "duration": 13,
    "start_time": "2021-10-25T12:54:58.287Z"
   },
   {
    "duration": 14,
    "start_time": "2021-10-25T12:57:52.036Z"
   },
   {
    "duration": 13,
    "start_time": "2021-10-25T12:58:02.217Z"
   },
   {
    "duration": 8259,
    "start_time": "2021-10-25T13:06:41.842Z"
   },
   {
    "duration": 82,
    "start_time": "2021-10-25T13:06:50.104Z"
   },
   {
    "duration": 39,
    "start_time": "2021-10-25T13:06:50.189Z"
   },
   {
    "duration": 25,
    "start_time": "2021-10-25T13:06:50.231Z"
   },
   {
    "duration": 13,
    "start_time": "2021-10-25T13:06:50.259Z"
   },
   {
    "duration": 49,
    "start_time": "2021-10-25T13:06:50.275Z"
   },
   {
    "duration": 6,
    "start_time": "2021-10-25T13:06:50.327Z"
   },
   {
    "duration": 457,
    "start_time": "2021-10-25T13:06:50.337Z"
   },
   {
    "duration": 12,
    "start_time": "2021-10-25T13:06:50.798Z"
   },
   {
    "duration": 27,
    "start_time": "2021-10-25T13:06:50.823Z"
   },
   {
    "duration": 6,
    "start_time": "2021-10-25T13:06:50.852Z"
   },
   {
    "duration": 17,
    "start_time": "2021-10-25T13:06:50.861Z"
   },
   {
    "duration": 48,
    "start_time": "2021-10-25T13:06:50.880Z"
   },
   {
    "duration": 15,
    "start_time": "2021-10-25T13:06:50.931Z"
   },
   {
    "duration": 8,
    "start_time": "2021-10-25T13:06:50.951Z"
   },
   {
    "duration": 21,
    "start_time": "2021-10-25T13:06:50.962Z"
   },
   {
    "duration": 9,
    "start_time": "2021-10-25T13:06:51.023Z"
   },
   {
    "duration": 29,
    "start_time": "2021-10-25T13:06:51.035Z"
   },
   {
    "duration": 8,
    "start_time": "2021-10-25T13:06:51.067Z"
   },
   {
    "duration": 14,
    "start_time": "2021-10-25T13:06:51.077Z"
   },
   {
    "duration": 40,
    "start_time": "2021-10-25T13:06:51.125Z"
   },
   {
    "duration": 76,
    "start_time": "2021-10-25T13:06:51.168Z"
   },
   {
    "duration": 5821,
    "start_time": "2021-10-25T13:06:51.250Z"
   },
   {
    "duration": 11,
    "start_time": "2021-10-25T13:06:57.074Z"
   },
   {
    "duration": 15,
    "start_time": "2021-10-25T13:06:57.088Z"
   },
   {
    "duration": 5168,
    "start_time": "2021-10-25T13:06:57.106Z"
   },
   {
    "duration": 4,
    "start_time": "2021-10-25T13:07:02.277Z"
   },
   {
    "duration": 19,
    "start_time": "2021-10-25T13:07:02.283Z"
   },
   {
    "duration": 18,
    "start_time": "2021-10-25T13:07:02.305Z"
   },
   {
    "duration": 28,
    "start_time": "2021-10-25T13:07:02.325Z"
   },
   {
    "duration": 34,
    "start_time": "2021-10-25T13:07:02.355Z"
   },
   {
    "duration": 5,
    "start_time": "2021-10-25T13:07:02.392Z"
   },
   {
    "duration": 41,
    "start_time": "2021-10-25T13:07:02.399Z"
   },
   {
    "duration": 16,
    "start_time": "2021-10-25T13:07:02.442Z"
   },
   {
    "duration": 22,
    "start_time": "2021-10-25T13:07:02.460Z"
   },
   {
    "duration": 48,
    "start_time": "2021-10-25T13:07:02.485Z"
   },
   {
    "duration": 69,
    "start_time": "2021-10-25T13:07:02.537Z"
   },
   {
    "duration": 16,
    "start_time": "2021-10-25T13:07:02.609Z"
   },
   {
    "duration": 46,
    "start_time": "2021-10-25T13:07:02.629Z"
   },
   {
    "duration": 13,
    "start_time": "2021-10-25T13:07:02.678Z"
   },
   {
    "duration": 52,
    "start_time": "2021-10-25T13:07:02.693Z"
   },
   {
    "duration": 15,
    "start_time": "2021-10-25T13:07:02.748Z"
   },
   {
    "duration": 32,
    "start_time": "2021-10-25T13:07:02.766Z"
   },
   {
    "duration": 35,
    "start_time": "2021-10-25T13:07:02.800Z"
   }
  ],
  "kernelspec": {
   "display_name": "Python 3",
   "language": "python",
   "name": "python3"
  },
  "language_info": {
   "codemirror_mode": {
    "name": "ipython",
    "version": 3
   },
   "file_extension": ".py",
   "mimetype": "text/x-python",
   "name": "python",
   "nbconvert_exporter": "python",
   "pygments_lexer": "ipython3",
   "version": "3.7.8"
  },
  "toc": {
   "base_numbering": 1,
   "nav_menu": {},
   "number_sections": true,
   "sideBar": true,
   "skip_h1_title": true,
   "title_cell": "Table of Contents",
   "title_sidebar": "Contents",
   "toc_cell": false,
   "toc_position": {},
   "toc_section_display": true,
   "toc_window_display": false
  }
 },
 "nbformat": 4,
 "nbformat_minor": 4
}
